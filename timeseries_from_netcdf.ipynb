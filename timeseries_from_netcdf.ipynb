{
 "metadata": {
  "name": ""
 },
 "nbformat": 3,
 "nbformat_minor": 0,
 "worksheets": [
  {
   "cells": [
    {
     "cell_type": "code",
     "collapsed": false,
     "input": [
      "#A list of imports we need for code later in the notebook.\n",
      "#The css_styles() function must go last.\n",
      "%matplotlib inline\n",
      "from owslib.wfs import WebFeatureService\n",
      "import json\n",
      "from utilities import find_dict_keys\n",
      "from shapely.geometry import shape, MultiPolygon\n",
      "from shapely.geometry import box\n",
      "\n",
      "import folium\n",
      "from utilities import get_coords\n",
      "from IPython.core.display import HTML\n",
      "\n",
      "import time\n",
      "import numpy as np\n",
      "from numpy import ma\n",
      "import netCDF4\n",
      "import pandas as pd\n",
      "from pandas import Series\n",
      "import os\n",
      "\n",
      "import matplotlib as mpl\n",
      "from matplotlib import cm\n",
      "import matplotlib.pyplot as plt\n",
      "from matplotlib import ticker\n",
      "\n",
      "from utilities import css_styles\n",
      "css_styles()"
     ],
     "language": "python",
     "metadata": {},
     "outputs": [],
     "prompt_number": 2
    },
    {
     "cell_type": "code",
     "collapsed": false,
     "input": [
      "output_filename = '/home/will/Projects/testbed/test.csv'\n",
      "input_directory='/augie/gluster/data/netCDF/pmel/cccma/'"
     ],
     "language": "python",
     "metadata": {},
     "outputs": [],
     "prompt_number": 3
    },
    {
     "cell_type": "code",
     "collapsed": false,
     "input": [
      "# Load latitude and longitude arrays\n",
      "latitude = np.array(sample.variables['LATITUDE'])\n",
      "longitude = np.array(sample.variables['LONGITUDE'])"
     ],
     "language": "python",
     "metadata": {},
     "outputs": [],
     "prompt_number": 4
    },
    {
     "cell_type": "code",
     "collapsed": false,
     "input": [
      "# Set up depth bins, for these data, they are in meters\n",
      "depthbins = pd.DataFrame({'mindepth': [0, 75],\n",
      "                          'maxdepth': [60, 200]},\n",
      "                         index=['shallow','deep'],\n",
      "                         columns=['mindepth', 'maxdepth', 'minz', 'maxz'])\n",
      "\n",
      "depth = np.array(sample.variables['zsalt'])\n",
      "depthindices=list()\n",
      "for d in range(len(depthbins.index)):\n",
      "    indicesz=np.where(np.logical_and(depth[:] <= depthbins.maxdepth[d],\n",
      "                                     depth[:] >= depthbins.mindepth[d]))\n",
      "    depthindices.append(indicesz[0])\n",
      "    if len(depthindices[d]) > 0:\n",
      "        depthbins.minz[d] = min(depthindices[d])\n",
      "        depthbins.maxz[d] = max(depthindices[d])\n",
      "        \n",
      "depthbins['label']=['0 to 60 m', '75 to 200 m']"
     ],
     "language": "python",
     "metadata": {},
     "outputs": [],
     "prompt_number": 5
    },
    {
     "cell_type": "code",
     "collapsed": false,
     "input": [
      "#This is our known metadata for the outputs\n",
      "metadata = pd.DataFrame({\n",
      "         'orgName': [\n",
      "                   #these don't have depth\n",
      "                   'icephl_latlon','ben_latlon',\n",
      "                   'aice_latlon',\n",
      "                   #these do\n",
      "                 'phs_latlon','phl_latlon','mzl_latlon','cop_latlon','ncao_latlon','ncas_latlon','eup_latlon','det_latlon',\n",
      "                 'temp_latlon',\n",
      "                 'u_latlon',\n",
      "                 'v_latlon',],\n",
      "         'name': ['Ice Phytoplankton Concentration',\n",
      "                  'Benthos Concentration',\n",
      "                  'Sea Ice Area Fraction',\n",
      "                  'Small Phytoplankton Concentration',\n",
      "                  'Large Phytoplankton Concentration',\n",
      "                  'Large Microzooplankton Concentration',\n",
      "                  'Small Coastal Copepod Concentration',\n",
      "                  'Offshore Neocalanus Concentration',\n",
      "                  'Neocalanus Concentration',\n",
      "                  'Euphausiids Concentration',\n",
      "                  'Detritus Concentration',\n",
      "                  'Sea Water Temperature',\n",
      "                  'Zonal (U) Current',\n",
      "                  'Meridional (V) Current'],\n",
      "         'units': ['mgC/m2','mgC/m2',\n",
      "                   'Fraction',\n",
      "                   'mgC/m3','mgC/m3','mgC/m3','mgC/m3','mgC/m3','mgC/m3','mgC/m3','mgC/m3',\n",
      "                   'degrees C',\n",
      "                   'm/s',\n",
      "                   'm/s']\n",
      "       })"
     ],
     "language": "python",
     "metadata": {},
     "outputs": [],
     "prompt_number": 6
    },
    {
     "cell_type": "code",
     "collapsed": false,
     "input": [
      "#this is a long way to a sorted list the files in the input directory (i.e., no files in subdirectories)\n",
      "input_files = sorted([f for f in os.listdir(input_directory) if os.path.isfile(os.path.join(input_directory, f))])"
     ],
     "language": "python",
     "metadata": {},
     "outputs": [],
     "prompt_number": 7
    },
    {
     "cell_type": "code",
     "collapsed": false,
     "input": [
      "for f in input_files:\n",
      "    print 'Working on: ' + f\n",
      "    sample = netCDF4.Dataset(input_directory+f)"
     ],
     "language": "python",
     "metadata": {},
     "outputs": [
      {
       "output_type": "stream",
       "stream": "stdout",
       "text": [
        "Working on: cccma_week1001.nc\n",
        "Working on: cccma_week1002.nc\n",
        "Working on: cccma_week1003.nc\n",
        "Working on: cccma_week1004.nc\n",
        "Working on: cccma_week1005.nc\n",
        "Working on: cccma_week1006.nc\n",
        "Working on: cccma_week1007.nc\n",
        "Working on: cccma_week1008.nc\n",
        "Working on: cccma_week1009.nc\n",
        "Working on: cccma_week1010.nc\n",
        "Working on: cccma_week1011.nc\n",
        "Working on: cccma_week1012.nc\n",
        "Working on: cccma_week1013.nc\n",
        "Working on: cccma_week1014.nc\n",
        "Working on: cccma_week1015.nc\n",
        "Working on: cccma_week1016.nc\n",
        "Working on: cccma_week1017.nc\n",
        "Working on: cccma_week1018.nc\n",
        "Working on: cccma_week1019.nc"
       ]
      },
      {
       "output_type": "stream",
       "stream": "stdout",
       "text": [
        "\n",
        "Working on: cccma_week1020.nc\n",
        "Working on: cccma_week1021.nc\n",
        "Working on: cccma_week1022.nc\n",
        "Working on: cccma_week1023.nc\n",
        "Working on: cccma_week1024.nc\n",
        "Working on: cccma_week1025.nc\n",
        "Working on: cccma_week1026.nc\n",
        "Working on: cccma_week1027.nc\n",
        "Working on: cccma_week1028.nc\n",
        "Working on: cccma_week1029.nc\n",
        "Working on: cccma_week1030.nc\n",
        "Working on: cccma_week1031.nc\n",
        "Working on: cccma_week1032.nc\n",
        "Working on: cccma_week1033.nc\n",
        "Working on: cccma_week1034.nc\n",
        "Working on: cccma_week1035.nc\n",
        "Working on: cccma_week1036.nc\n",
        "Working on: cccma_week1037.nc\n",
        "Working on: cccma_week1038.nc\n",
        "Working on: cccma_week1039.nc"
       ]
      },
      {
       "output_type": "stream",
       "stream": "stdout",
       "text": [
        "\n",
        "Working on: cccma_week1040.nc\n",
        "Working on: cccma_week1041.nc\n",
        "Working on: cccma_week1042.nc\n",
        "Working on: cccma_week1043.nc\n",
        "Working on: cccma_week1044.nc\n",
        "Working on: cccma_week1045.nc\n",
        "Working on: cccma_week1046.nc\n",
        "Working on: cccma_week1047.nc\n",
        "Working on: cccma_week1048.nc\n",
        "Working on: cccma_week1049.nc\n",
        "Working on: cccma_week1050.nc\n",
        "Working on: cccma_week1051.nc\n",
        "Working on: cccma_week1052.nc\n",
        "Working on: cccma_week1053.nc\n",
        "Working on: cccma_week1054.nc\n",
        "Working on: cccma_week1055.nc\n",
        "Working on: cccma_week1056.nc\n",
        "Working on: cccma_week1057.nc\n",
        "Working on: cccma_week1058.nc\n",
        "Working on: cccma_week1059.nc\n",
        "Working on: cccma_week1060.nc"
       ]
      },
      {
       "output_type": "stream",
       "stream": "stdout",
       "text": [
        "\n",
        "Working on: cccma_week1061.nc\n",
        "Working on: cccma_week1062.nc\n",
        "Working on: cccma_week1063.nc\n",
        "Working on: cccma_week1064.nc\n",
        "Working on: cccma_week1065.nc\n",
        "Working on: cccma_week1066.nc\n",
        "Working on: cccma_week1067.nc\n",
        "Working on: cccma_week1068.nc\n",
        "Working on: cccma_week1069.nc\n",
        "Working on: cccma_week1070.nc\n",
        "Working on: cccma_week1071.nc\n",
        "Working on: cccma_week1072.nc\n",
        "Working on: cccma_week1073.nc\n",
        "Working on: cccma_week1074.nc\n",
        "Working on: cccma_week1075.nc\n",
        "Working on: cccma_week1076.nc\n",
        "Working on: cccma_week1077.nc\n",
        "Working on: cccma_week1078.nc\n",
        "Working on: cccma_week1079.nc\n",
        "Working on: cccma_week1080.nc"
       ]
      },
      {
       "output_type": "stream",
       "stream": "stdout",
       "text": [
        "\n",
        "Working on: cccma_week1081.nc\n",
        "Working on: cccma_week1082.nc\n",
        "Working on: cccma_week1083.nc\n",
        "Working on: cccma_week1084.nc\n",
        "Working on: cccma_week1085.nc\n",
        "Working on: cccma_week1086.nc\n",
        "Working on: cccma_week1087.nc\n",
        "Working on: cccma_week1088.nc\n",
        "Working on: cccma_week1089.nc\n",
        "Working on: cccma_week1090.nc\n",
        "Working on: cccma_week1091.nc\n",
        "Working on: cccma_week1092.nc\n",
        "Working on: cccma_week1093.nc\n",
        "Working on: cccma_week1094.nc\n",
        "Working on: cccma_week1095.nc\n",
        "Working on: cccma_week1096.nc\n",
        "Working on: cccma_week1097.nc\n",
        "Working on: cccma_week1098.nc\n",
        "Working on: cccma_week1099.nc\n",
        "Working on: cccma_week1100.nc\n",
        "Working on: cccma_week1101.nc"
       ]
      },
      {
       "output_type": "stream",
       "stream": "stdout",
       "text": [
        "\n",
        "Working on: cccma_week1102.nc\n",
        "Working on: cccma_week1103.nc\n",
        "Working on: cccma_week1104.nc\n",
        "Working on: cccma_week1105.nc\n",
        "Working on: cccma_week1106.nc\n",
        "Working on: cccma_week1107.nc\n",
        "Working on: cccma_week1108.nc\n",
        "Working on: cccma_week1109.nc\n",
        "Working on: cccma_week1110.nc\n",
        "Working on: cccma_week1111.nc\n",
        "Working on: cccma_week1112.nc\n",
        "Working on: cccma_week1113.nc\n",
        "Working on: cccma_week1114.nc\n",
        "Working on: cccma_week1115.nc\n",
        "Working on: cccma_week1116.nc\n",
        "Working on: cccma_week1117.nc\n",
        "Working on: cccma_week1118.nc\n",
        "Working on: cccma_week1119.nc\n",
        "Working on: cccma_week1120.nc\n",
        "Working on: cccma_week1121.nc\n",
        "Working on: cccma_week1122.nc"
       ]
      },
      {
       "output_type": "stream",
       "stream": "stdout",
       "text": [
        "\n",
        "Working on: cccma_week1123.nc\n",
        "Working on: cccma_week1124.nc\n",
        "Working on: cccma_week1125.nc\n",
        "Working on: cccma_week1126.nc\n",
        "Working on: cccma_week1127.nc\n",
        "Working on: cccma_week1128.nc\n",
        "Working on: cccma_week1129.nc\n",
        "Working on: cccma_week1130.nc\n",
        "Working on: cccma_week1131.nc\n",
        "Working on: cccma_week1132.nc\n",
        "Working on: cccma_week1133.nc\n",
        "Working on: cccma_week1134.nc\n",
        "Working on: cccma_week1135.nc\n",
        "Working on: cccma_week1136.nc\n",
        "Working on: cccma_week1137.nc\n",
        "Working on: cccma_week1138.nc\n",
        "Working on: cccma_week1139.nc\n",
        "Working on: cccma_week1140.nc\n",
        "Working on: cccma_week1141.nc\n",
        "Working on: cccma_week1142.nc\n",
        "Working on: cccma_week1143.nc"
       ]
      },
      {
       "output_type": "stream",
       "stream": "stdout",
       "text": [
        "\n",
        "Working on: cccma_week1144.nc\n",
        "Working on: cccma_week1145.nc\n",
        "Working on: cccma_week1146.nc\n",
        "Working on: cccma_week1147.nc\n",
        "Working on: cccma_week1148.nc\n",
        "Working on: cccma_week1149.nc\n",
        "Working on: cccma_week1150.nc\n",
        "Working on: cccma_week1151.nc\n",
        "Working on: cccma_week1152.nc\n",
        "Working on: cccma_week1153.nc\n",
        "Working on: cccma_week1154.nc\n",
        "Working on: cccma_week1155.nc\n",
        "Working on: cccma_week1156.nc\n",
        "Working on: cccma_week1157.nc\n",
        "Working on: cccma_week1158.nc\n",
        "Working on: cccma_week1159.nc\n",
        "Working on: cccma_week1160.nc\n",
        "Working on: cccma_week1161.nc\n",
        "Working on: cccma_week1162.nc\n",
        "Working on: cccma_week1163.nc"
       ]
      },
      {
       "output_type": "stream",
       "stream": "stdout",
       "text": [
        "\n",
        "Working on: cccma_week1164.nc\n",
        "Working on: cccma_week1165.nc\n",
        "Working on: cccma_week1166.nc\n",
        "Working on: cccma_week1167.nc\n",
        "Working on: cccma_week1168.nc\n",
        "Working on: cccma_week1169.nc\n",
        "Working on: cccma_week1170.nc\n",
        "Working on: cccma_week1171.nc\n",
        "Working on: cccma_week1172.nc\n",
        "Working on: cccma_week1173.nc\n",
        "Working on: cccma_week1174.nc\n",
        "Working on: cccma_week1175.nc\n",
        "Working on: cccma_week1176.nc\n",
        "Working on: cccma_week1177.nc\n",
        "Working on: cccma_week1178.nc\n",
        "Working on: cccma_week1179.nc\n",
        "Working on: cccma_week1180.nc\n",
        "Working on: cccma_week1181.nc\n",
        "Working on: cccma_week1182.nc\n",
        "Working on: cccma_week1183.nc\n",
        "Working on: cccma_week1184.nc"
       ]
      },
      {
       "output_type": "stream",
       "stream": "stdout",
       "text": [
        "\n",
        "Working on: cccma_week1185.nc\n",
        "Working on: cccma_week1186.nc\n",
        "Working on: cccma_week1187.nc\n",
        "Working on: cccma_week1188.nc\n",
        "Working on: cccma_week1189.nc\n",
        "Working on: cccma_week1190.nc\n",
        "Working on: cccma_week1191.nc\n",
        "Working on: cccma_week1192.nc\n",
        "Working on: cccma_week1193.nc\n",
        "Working on: cccma_week1194.nc\n",
        "Working on: cccma_week1195.nc\n",
        "Working on: cccma_week1196.nc\n",
        "Working on: cccma_week1197.nc\n",
        "Working on: cccma_week1198.nc\n",
        "Working on: cccma_week1199.nc\n",
        "Working on: cccma_week1200.nc\n",
        "Working on: cccma_week1201.nc\n",
        "Working on: cccma_week1202.nc\n",
        "Working on: cccma_week1203.nc\n",
        "Working on: cccma_week1204.nc\n",
        "Working on: cccma_week1205.nc"
       ]
      },
      {
       "output_type": "stream",
       "stream": "stdout",
       "text": [
        "\n",
        "Working on: cccma_week1206.nc\n",
        "Working on: cccma_week1207.nc\n",
        "Working on: cccma_week1208.nc\n",
        "Working on: cccma_week1209.nc\n",
        "Working on: cccma_week1210.nc\n",
        "Working on: cccma_week1211.nc\n",
        "Working on: cccma_week1212.nc\n",
        "Working on: cccma_week1213.nc\n",
        "Working on: cccma_week1214.nc\n",
        "Working on: cccma_week1215.nc\n",
        "Working on: cccma_week1216.nc\n",
        "Working on: cccma_week1217.nc\n",
        "Working on: cccma_week1218.nc\n",
        "Working on: cccma_week1219.nc\n",
        "Working on: cccma_week1220.nc\n",
        "Working on: cccma_week1221.nc\n",
        "Working on: cccma_week1222.nc\n",
        "Working on: cccma_week1223.nc\n",
        "Working on: cccma_week1224.nc\n",
        "Working on: cccma_week1225.nc"
       ]
      },
      {
       "output_type": "stream",
       "stream": "stdout",
       "text": [
        "\n",
        "Working on: cccma_week1226.nc\n",
        "Working on: cccma_week1227.nc\n",
        "Working on: cccma_week1228.nc\n",
        "Working on: cccma_week1229.nc\n",
        "Working on: cccma_week1230.nc\n",
        "Working on: cccma_week1231.nc\n",
        "Working on: cccma_week1232.nc\n",
        "Working on: cccma_week1233.nc\n",
        "Working on: cccma_week1234.nc\n",
        "Working on: cccma_week1235.nc\n",
        "Working on: cccma_week1236.nc\n",
        "Working on: cccma_week1237.nc\n",
        "Working on: cccma_week1238.nc\n",
        "Working on: cccma_week1239.nc\n",
        "Working on: cccma_week1240.nc\n",
        "Working on: cccma_week1241.nc\n",
        "Working on: cccma_week1242.nc\n",
        "Working on: cccma_week1243.nc\n",
        "Working on: cccma_week1244.nc\n",
        "Working on: cccma_week1245.nc\n",
        "Working on: cccma_week1246.nc"
       ]
      },
      {
       "output_type": "stream",
       "stream": "stdout",
       "text": [
        "\n",
        "Working on: cccma_week1247.nc\n",
        "Working on: cccma_week1248.nc\n",
        "Working on: cccma_week1249.nc\n",
        "Working on: cccma_week1250.nc\n",
        "Working on: cccma_week1251.nc\n",
        "Working on: cccma_week1252.nc\n",
        "Working on: cccma_week1253.nc\n",
        "Working on: cccma_week1254.nc\n",
        "Working on: cccma_week1255.nc\n",
        "Working on: cccma_week1256.nc\n",
        "Working on: cccma_week1257.nc\n",
        "Working on: cccma_week1258.nc\n",
        "Working on: cccma_week1259.nc\n",
        "Working on: cccma_week1260.nc\n",
        "Working on: cccma_week1261.nc\n",
        "Working on: cccma_week1262.nc\n",
        "Working on: cccma_week1263.nc\n",
        "Working on: cccma_week1264.nc\n",
        "Working on: cccma_week1265.nc\n",
        "Working on: cccma_week1266.nc\n",
        "Working on: cccma_week1267.nc"
       ]
      },
      {
       "output_type": "stream",
       "stream": "stdout",
       "text": [
        "\n",
        "Working on: cccma_week1268.nc\n",
        "Working on: cccma_week1269.nc\n",
        "Working on: cccma_week1270.nc\n",
        "Working on: cccma_week1271.nc\n",
        "Working on: cccma_week1272.nc\n",
        "Working on: cccma_week1273.nc\n",
        "Working on: cccma_week1274.nc\n",
        "Working on: cccma_week1275.nc\n",
        "Working on: cccma_week1276.nc\n",
        "Working on: cccma_week1277.nc\n",
        "Working on: cccma_week1278.nc\n",
        "Working on: cccma_week1279.nc\n",
        "Working on: cccma_week1280.nc\n",
        "Working on: cccma_week1281.nc\n",
        "Working on: cccma_week1282.nc\n",
        "Working on: cccma_week1283.nc\n",
        "Working on: cccma_week1284.nc\n",
        "Working on: cccma_week1285.nc\n",
        "Working on: cccma_week1286.nc\n",
        "Working on: cccma_week1287.nc"
       ]
      },
      {
       "output_type": "stream",
       "stream": "stdout",
       "text": [
        "\n",
        "Working on: cccma_week1288.nc\n",
        "Working on: cccma_week1289.nc\n",
        "Working on: cccma_week1290.nc\n",
        "Working on: cccma_week1291.nc\n",
        "Working on: cccma_week1292.nc\n",
        "Working on: cccma_week1293.nc\n",
        "Working on: cccma_week1294.nc\n",
        "Working on: cccma_week1295.nc\n",
        "Working on: cccma_week1296.nc\n",
        "Working on: cccma_week1297.nc\n",
        "Working on: cccma_week1298.nc\n",
        "Working on: cccma_week1299.nc\n",
        "Working on: cccma_week1300.nc\n",
        "Working on: cccma_week1301.nc\n",
        "Working on: cccma_week1302.nc\n",
        "Working on: cccma_week1303.nc\n",
        "Working on: cccma_week1304.nc\n",
        "Working on: cccma_week1305.nc\n",
        "Working on: cccma_week1306.nc\n",
        "Working on: cccma_week1307.nc\n",
        "Working on: cccma_week1308.nc"
       ]
      },
      {
       "output_type": "stream",
       "stream": "stdout",
       "text": [
        "\n",
        "Working on: cccma_week1309.nc\n",
        "Working on: cccma_week1310.nc\n",
        "Working on: cccma_week1311.nc\n",
        "Working on: cccma_week1312.nc\n",
        "Working on: cccma_week1313.nc\n",
        "Working on: cccma_week1314.nc\n",
        "Working on: cccma_week1315.nc\n",
        "Working on: cccma_week1316.nc\n",
        "Working on: cccma_week1317.nc\n",
        "Working on: cccma_week1318.nc\n",
        "Working on: cccma_week1319.nc\n",
        "Working on: cccma_week1320.nc\n",
        "Working on: cccma_week1321.nc\n",
        "Working on: cccma_week1322.nc\n",
        "Working on: cccma_week1323.nc\n",
        "Working on: cccma_week1324.nc\n",
        "Working on: cccma_week1325.nc\n",
        "Working on: cccma_week1326.nc\n",
        "Working on: cccma_week1327.nc\n",
        "Working on: cccma_week1328.nc\n",
        "Working on: cccma_week1329.nc"
       ]
      },
      {
       "output_type": "stream",
       "stream": "stdout",
       "text": [
        "\n",
        "Working on: cccma_week1330.nc\n",
        "Working on: cccma_week1331.nc\n",
        "Working on: cccma_week1332.nc\n",
        "Working on: cccma_week1333.nc\n",
        "Working on: cccma_week1334.nc\n",
        "Working on: cccma_week1335.nc\n",
        "Working on: cccma_week1336.nc\n",
        "Working on: cccma_week1337.nc\n",
        "Working on: cccma_week1338.nc\n",
        "Working on: cccma_week1339.nc\n",
        "Working on: cccma_week1340.nc\n",
        "Working on: cccma_week1341.nc\n",
        "Working on: cccma_week1342.nc\n",
        "Working on: cccma_week1343.nc\n",
        "Working on: cccma_week1344.nc\n",
        "Working on: cccma_week1345.nc\n",
        "Working on: cccma_week1346.nc\n",
        "Working on: cccma_week1347.nc\n",
        "Working on: cccma_week1348.nc\n",
        "Working on: cccma_week1349.nc"
       ]
      },
      {
       "output_type": "stream",
       "stream": "stdout",
       "text": [
        "\n",
        "Working on: cccma_week1350.nc\n",
        "Working on: cccma_week1351.nc\n",
        "Working on: cccma_week1352.nc\n",
        "Working on: cccma_week1353.nc\n",
        "Working on: cccma_week1354.nc\n",
        "Working on: cccma_week1355.nc\n",
        "Working on: cccma_week1356.nc\n",
        "Working on: cccma_week1357.nc\n",
        "Working on: cccma_week1358.nc\n",
        "Working on: cccma_week1359.nc\n",
        "Working on: cccma_week1360.nc\n",
        "Working on: cccma_week1361.nc\n",
        "Working on: cccma_week1362.nc\n",
        "Working on: cccma_week1363.nc\n",
        "Working on: cccma_week1364.nc\n",
        "Working on: cccma_week1365.nc\n",
        "Working on: cccma_week1366.nc\n",
        "Working on: cccma_week1367.nc\n",
        "Working on: cccma_week1368.nc\n",
        "Working on: cccma_week1369.nc\n",
        "Working on: cccma_week1370.nc"
       ]
      },
      {
       "output_type": "stream",
       "stream": "stdout",
       "text": [
        "\n",
        "Working on: cccma_week1371.nc\n",
        "Working on: cccma_week1372.nc\n",
        "Working on: cccma_week1373.nc\n",
        "Working on: cccma_week1374.nc\n",
        "Working on: cccma_week1375.nc\n",
        "Working on: cccma_week1376.nc\n",
        "Working on: cccma_week1377.nc\n",
        "Working on: cccma_week1378.nc\n",
        "Working on: cccma_week1379.nc\n",
        "Working on: cccma_week1380.nc\n",
        "Working on: cccma_week1381.nc\n",
        "Working on: cccma_week1382.nc\n",
        "Working on: cccma_week1383.nc\n",
        "Working on: cccma_week1384.nc\n",
        "Working on: cccma_week1385.nc\n",
        "Working on: cccma_week1386.nc\n",
        "Working on: cccma_week1387.nc\n",
        "Working on: cccma_week1388.nc\n",
        "Working on: cccma_week1389.nc\n",
        "Working on: cccma_week1390.nc\n",
        "Working on: cccma_week1391.nc"
       ]
      },
      {
       "output_type": "stream",
       "stream": "stdout",
       "text": [
        "\n",
        "Working on: cccma_week1392.nc\n",
        "Working on: cccma_week1393.nc\n",
        "Working on: cccma_week1394.nc\n",
        "Working on: cccma_week1395.nc\n",
        "Working on: cccma_week1396.nc\n",
        "Working on: cccma_week1397.nc\n",
        "Working on: cccma_week1398.nc\n",
        "Working on: cccma_week1399.nc\n",
        "Working on: cccma_week1400.nc\n",
        "Working on: cccma_week1401.nc\n",
        "Working on: cccma_week1402.nc\n",
        "Working on: cccma_week1403.nc\n",
        "Working on: cccma_week1404.nc\n",
        "Working on: cccma_week1405.nc\n",
        "Working on: cccma_week1406.nc\n",
        "Working on: cccma_week1407.nc\n",
        "Working on: cccma_week1408.nc\n",
        "Working on: cccma_week1409.nc\n",
        "Working on: cccma_week1410.nc\n",
        "Working on: cccma_week1411.nc\n",
        "Working on: cccma_week1412.nc"
       ]
      },
      {
       "output_type": "stream",
       "stream": "stdout",
       "text": [
        "\n",
        "Working on: cccma_week1413.nc\n",
        "Working on: cccma_week1414.nc\n",
        "Working on: cccma_week1415.nc\n",
        "Working on: cccma_week1416.nc\n",
        "Working on: cccma_week1417.nc\n",
        "Working on: cccma_week1418.nc\n",
        "Working on: cccma_week1419.nc\n",
        "Working on: cccma_week1420.nc\n",
        "Working on: cccma_week1421.nc\n",
        "Working on: cccma_week1422.nc\n",
        "Working on: cccma_week1423.nc\n",
        "Working on: cccma_week1424.nc\n",
        "Working on: cccma_week1425.nc\n",
        "Working on: cccma_week1426.nc\n",
        "Working on: cccma_week1427.nc\n",
        "Working on: cccma_week1428.nc\n",
        "Working on: cccma_week1429.nc\n",
        "Working on: cccma_week1430.nc\n",
        "Working on: cccma_week1431.nc\n",
        "Working on: cccma_week1432.nc"
       ]
      },
      {
       "output_type": "stream",
       "stream": "stdout",
       "text": [
        "\n",
        "Working on: cccma_week1433.nc\n",
        "Working on: cccma_week1434.nc\n",
        "Working on: cccma_week1435.nc\n",
        "Working on: cccma_week1436.nc\n",
        "Working on: cccma_week1437.nc\n",
        "Working on: cccma_week1438.nc\n",
        "Working on: cccma_week1439.nc\n",
        "Working on: cccma_week1440.nc\n",
        "Working on: cccma_week1441.nc\n",
        "Working on: cccma_week1442.nc\n",
        "Working on: cccma_week1443.nc\n",
        "Working on: cccma_week1444.nc\n",
        "Working on: cccma_week1445.nc\n",
        "Working on: cccma_week1446.nc\n",
        "Working on: cccma_week1447.nc\n",
        "Working on: cccma_week1448.nc\n",
        "Working on: cccma_week1449.nc\n",
        "Working on: cccma_week1450.nc\n",
        "Working on: cccma_week1451.nc\n",
        "Working on: cccma_week1452.nc\n",
        "Working on: cccma_week1453.nc"
       ]
      },
      {
       "output_type": "stream",
       "stream": "stdout",
       "text": [
        "\n",
        "Working on: cccma_week1454.nc\n",
        "Working on: cccma_week1455.nc\n",
        "Working on: cccma_week1456.nc\n",
        "Working on: cccma_week1457.nc\n",
        "Working on: cccma_week1458.nc\n",
        "Working on: cccma_week1459.nc\n",
        "Working on: cccma_week1460.nc\n",
        "Working on: cccma_week1461.nc\n",
        "Working on: cccma_week1462.nc\n",
        "Working on: cccma_week1463.nc\n",
        "Working on: cccma_week1464.nc\n",
        "Working on: cccma_week1465.nc\n",
        "Working on: cccma_week1466.nc\n",
        "Working on: cccma_week1467.nc\n",
        "Working on: cccma_week1468.nc\n",
        "Working on: cccma_week1469.nc\n",
        "Working on: cccma_week1470.nc\n",
        "Working on: cccma_week1471.nc\n",
        "Working on: cccma_week1472.nc\n",
        "Working on: cccma_week1473.nc\n",
        "Working on: cccma_week1474.nc"
       ]
      },
      {
       "output_type": "stream",
       "stream": "stdout",
       "text": [
        "\n",
        "Working on: cccma_week1475.nc\n",
        "Working on: cccma_week1476.nc\n",
        "Working on: cccma_week1477.nc\n",
        "Working on: cccma_week1478.nc\n",
        "Working on: cccma_week1479.nc\n",
        "Working on: cccma_week1480.nc\n",
        "Working on: cccma_week1481.nc\n",
        "Working on: cccma_week1482.nc\n",
        "Working on: cccma_week1483.nc\n",
        "Working on: cccma_week1484.nc\n",
        "Working on: cccma_week1485.nc\n",
        "Working on: cccma_week1486.nc\n",
        "Working on: cccma_week1487.nc\n",
        "Working on: cccma_week1488.nc\n",
        "Working on: cccma_week1489.nc\n",
        "Working on: cccma_week1490.nc\n",
        "Working on: cccma_week1491.nc\n",
        "Working on: cccma_week1492.nc\n",
        "Working on: cccma_week1493.nc\n",
        "Working on: cccma_week1494.nc"
       ]
      },
      {
       "output_type": "stream",
       "stream": "stdout",
       "text": [
        "\n",
        "Working on: cccma_week1495.nc\n",
        "Working on: cccma_week1496.nc\n",
        "Working on: cccma_week1497.nc\n",
        "Working on: cccma_week1498.nc\n",
        "Working on: cccma_week1499.nc\n",
        "Working on: cccma_week1500.nc\n",
        "Working on: cccma_week1501.nc\n",
        "Working on: cccma_week1502.nc\n",
        "Working on: cccma_week1503.nc\n",
        "Working on: cccma_week1504.nc\n",
        "Working on: cccma_week1505.nc\n",
        "Working on: cccma_week1506.nc\n",
        "Working on: cccma_week1507.nc\n",
        "Working on: cccma_week1508.nc\n",
        "Working on: cccma_week1509.nc\n",
        "Working on: cccma_week1510.nc\n",
        "Working on: cccma_week1511.nc\n",
        "Working on: cccma_week1512.nc\n",
        "Working on: cccma_week1513.nc\n",
        "Working on: cccma_week1514.nc\n",
        "Working on: cccma_week1515.nc"
       ]
      },
      {
       "output_type": "stream",
       "stream": "stdout",
       "text": [
        "\n",
        "Working on: cccma_week1516.nc\n",
        "Working on: cccma_week1517.nc\n",
        "Working on: cccma_week1518.nc\n",
        "Working on: cccma_week1519.nc\n",
        "Working on: cccma_week1520.nc\n",
        "Working on: cccma_week1521.nc\n",
        "Working on: cccma_week1522.nc\n",
        "Working on: cccma_week1523.nc\n",
        "Working on: cccma_week1524.nc\n",
        "Working on: cccma_week1525.nc\n",
        "Working on: cccma_week1526.nc\n",
        "Working on: cccma_week1527.nc\n",
        "Working on: cccma_week1528.nc\n",
        "Working on: cccma_week1529.nc\n",
        "Working on: cccma_week1530.nc\n",
        "Working on: cccma_week1531.nc\n",
        "Working on: cccma_week1532.nc\n",
        "Working on: cccma_week1533.nc\n",
        "Working on: cccma_week1534.nc\n",
        "Working on: cccma_week1535.nc\n",
        "Working on: cccma_week1536.nc"
       ]
      },
      {
       "output_type": "stream",
       "stream": "stdout",
       "text": [
        "\n",
        "Working on: cccma_week1537.nc\n",
        "Working on: cccma_week1538.nc\n",
        "Working on: cccma_week1539.nc\n",
        "Working on: cccma_week1540.nc\n",
        "Working on: cccma_week1541.nc\n",
        "Working on: cccma_week1542.nc\n",
        "Working on: cccma_week1543.nc\n",
        "Working on: cccma_week1544.nc\n",
        "Working on: cccma_week1545.nc\n",
        "Working on: cccma_week1546.nc\n",
        "Working on: cccma_week1547.nc\n",
        "Working on: cccma_week1548.nc\n",
        "Working on: cccma_week1549.nc\n",
        "Working on: cccma_week1550.nc\n",
        "Working on: cccma_week1551.nc\n",
        "Working on: cccma_week1552.nc\n",
        "Working on: cccma_week1553.nc\n",
        "Working on: cccma_week1554.nc\n",
        "Working on: cccma_week1555.nc\n",
        "Working on: cccma_week1556.nc"
       ]
      },
      {
       "output_type": "stream",
       "stream": "stdout",
       "text": [
        "\n",
        "Working on: cccma_week1557.nc\n",
        "Working on: cccma_week1558.nc\n",
        "Working on: cccma_week1559.nc\n",
        "Working on: cccma_week1560.nc\n",
        "Working on: cccma_week1561.nc\n",
        "Working on: cccma_week1562.nc\n",
        "Working on: cccma_week1563.nc\n",
        "Working on: cccma_week1564.nc\n",
        "Working on: cccma_week1565.nc\n",
        "Working on: cccma_week1566.nc\n",
        "Working on: cccma_week1567.nc\n",
        "Working on: cccma_week1568.nc\n",
        "Working on: cccma_week1569.nc\n",
        "Working on: cccma_week1570.nc\n",
        "Working on: cccma_week1571.nc\n",
        "Working on: cccma_week1572.nc\n",
        "Working on: cccma_week1573.nc\n",
        "Working on: cccma_week1574.nc\n",
        "Working on: cccma_week1575.nc\n",
        "Working on: cccma_week1576.nc\n",
        "Working on: cccma_week1577.nc"
       ]
      },
      {
       "output_type": "stream",
       "stream": "stdout",
       "text": [
        "\n",
        "Working on: cccma_week1578.nc\n",
        "Working on: cccma_week1579.nc\n",
        "Working on: cccma_week1580.nc\n",
        "Working on: cccma_week1581.nc\n",
        "Working on: cccma_week1582.nc\n",
        "Working on: cccma_week1583.nc\n",
        "Working on: cccma_week1584.nc\n",
        "Working on: cccma_week1585.nc\n",
        "Working on: cccma_week1586.nc\n",
        "Working on: cccma_week1587.nc\n",
        "Working on: cccma_week1588.nc\n",
        "Working on: cccma_week1589.nc\n",
        "Working on: cccma_week1590.nc\n",
        "Working on: cccma_week1591.nc\n",
        "Working on: cccma_week1592.nc"
       ]
      },
      {
       "output_type": "stream",
       "stream": "stdout",
       "text": [
        "\n",
        "Working on: cccma_week1593.nc\n",
        "Working on: cccma_week1594.nc\n",
        "Working on: cccma_week1595.nc"
       ]
      },
      {
       "output_type": "stream",
       "stream": "stdout",
       "text": [
        "\n",
        "Working on: cccma_week1596.nc\n",
        "Working on: cccma_week1597.nc\n",
        "Working on: cccma_week1598.nc"
       ]
      },
      {
       "output_type": "stream",
       "stream": "stdout",
       "text": [
        "\n",
        "Working on: cccma_week1599.nc\n",
        "Working on: cccma_week1600.nc"
       ]
      },
      {
       "output_type": "stream",
       "stream": "stdout",
       "text": [
        "\n",
        "Working on: cccma_week1601.nc\n",
        "Working on: cccma_week1602.nc\n",
        "Working on: cccma_week1603.nc"
       ]
      },
      {
       "output_type": "stream",
       "stream": "stdout",
       "text": [
        "\n",
        "Working on: cccma_week1604.nc\n",
        "Working on: cccma_week1605.nc\n",
        "Working on: cccma_week1606.nc"
       ]
      },
      {
       "output_type": "stream",
       "stream": "stdout",
       "text": [
        "\n",
        "Working on: cccma_week1607.nc\n",
        "Working on: cccma_week1608.nc\n",
        "Working on: cccma_week1609.nc"
       ]
      },
      {
       "output_type": "stream",
       "stream": "stdout",
       "text": [
        "\n",
        "Working on: cccma_week1610.nc\n",
        "Working on: cccma_week1611.nc\n",
        "Working on: cccma_week1612.nc"
       ]
      },
      {
       "output_type": "stream",
       "stream": "stdout",
       "text": [
        "\n",
        "Working on: cccma_week1613.nc\n",
        "Working on: cccma_week1614.nc"
       ]
      },
      {
       "output_type": "stream",
       "stream": "stdout",
       "text": [
        "\n",
        "Working on: cccma_week1615.nc\n",
        "Working on: cccma_week1616.nc\n",
        "Working on: cccma_week1617.nc"
       ]
      },
      {
       "output_type": "stream",
       "stream": "stdout",
       "text": [
        "\n",
        "Working on: cccma_week1618.nc\n",
        "Working on: cccma_week1619.nc"
       ]
      },
      {
       "output_type": "stream",
       "stream": "stdout",
       "text": [
        "\n",
        "Working on: cccma_week1620.nc\n",
        "Working on: cccma_week1621.nc\n",
        "Working on: cccma_week1622.nc"
       ]
      },
      {
       "output_type": "stream",
       "stream": "stdout",
       "text": [
        "\n",
        "Working on: cccma_week1623.nc\n",
        "Working on: cccma_week1624.nc\n",
        "Working on: cccma_week1625.nc"
       ]
      },
      {
       "output_type": "stream",
       "stream": "stdout",
       "text": [
        "\n",
        "Working on: cccma_week1626.nc\n",
        "Working on: cccma_week1627.nc"
       ]
      },
      {
       "output_type": "stream",
       "stream": "stdout",
       "text": [
        "\n",
        "Working on: cccma_week1628.nc\n",
        "Working on: cccma_week1629.nc\n",
        "Working on: cccma_week1630.nc"
       ]
      },
      {
       "output_type": "stream",
       "stream": "stdout",
       "text": [
        "\n",
        "Working on: cccma_week1631.nc\n",
        "Working on: cccma_week1632.nc"
       ]
      },
      {
       "output_type": "stream",
       "stream": "stdout",
       "text": [
        "\n",
        "Working on: cccma_week1633.nc\n",
        "Working on: cccma_week1634.nc\n",
        "Working on: cccma_week1635.nc"
       ]
      },
      {
       "output_type": "stream",
       "stream": "stdout",
       "text": [
        "\n",
        "Working on: cccma_week1636.nc\n",
        "Working on: cccma_week1637.nc\n",
        "Working on: cccma_week1638.nc"
       ]
      },
      {
       "output_type": "stream",
       "stream": "stdout",
       "text": [
        "\n",
        "Working on: cccma_week1639.nc\n",
        "Working on: cccma_week1640.nc"
       ]
      },
      {
       "output_type": "stream",
       "stream": "stdout",
       "text": [
        "\n",
        "Working on: cccma_week1641.nc\n",
        "Working on: cccma_week1642.nc\n",
        "Working on: cccma_week1643.nc"
       ]
      },
      {
       "output_type": "stream",
       "stream": "stdout",
       "text": [
        "\n",
        "Working on: cccma_week1644.nc\n",
        "Working on: cccma_week1645.nc\n",
        "Working on: cccma_week1646.nc\n",
        "Working on: cccma_week1647.nc"
       ]
      },
      {
       "output_type": "stream",
       "stream": "stdout",
       "text": [
        "\n",
        "Working on: cccma_week1648.nc\n",
        "Working on: cccma_week1649.nc"
       ]
      },
      {
       "output_type": "stream",
       "stream": "stdout",
       "text": [
        "\n",
        "Working on: cccma_week1650.nc\n",
        "Working on: cccma_week1651.nc"
       ]
      },
      {
       "output_type": "stream",
       "stream": "stdout",
       "text": [
        "\n",
        "Working on: cccma_week1652.nc\n",
        "Working on: cccma_week1653.nc\n",
        "Working on: cccma_week1654.nc"
       ]
      },
      {
       "output_type": "stream",
       "stream": "stdout",
       "text": [
        "\n",
        "Working on: cccma_week1655.nc\n",
        "Working on: cccma_week1656.nc"
       ]
      },
      {
       "output_type": "stream",
       "stream": "stdout",
       "text": [
        "\n",
        "Working on: cccma_week1657.nc\n",
        "Working on: cccma_week1658.nc"
       ]
      },
      {
       "output_type": "stream",
       "stream": "stdout",
       "text": [
        "\n",
        "Working on: cccma_week1659.nc\n",
        "Working on: cccma_week1660.nc"
       ]
      },
      {
       "output_type": "stream",
       "stream": "stdout",
       "text": [
        "\n",
        "Working on: cccma_week1661.nc\n",
        "Working on: cccma_week1662.nc"
       ]
      },
      {
       "output_type": "stream",
       "stream": "stdout",
       "text": [
        "\n",
        "Working on: cccma_week1663.nc\n",
        "Working on: cccma_week1664.nc\n",
        "Working on: cccma_week1665.nc"
       ]
      },
      {
       "output_type": "stream",
       "stream": "stdout",
       "text": [
        "\n",
        "Working on: cccma_week1666.nc\n",
        "Working on: cccma_week1667.nc\n",
        "Working on: cccma_week1668.nc"
       ]
      },
      {
       "output_type": "stream",
       "stream": "stdout",
       "text": [
        "\n",
        "Working on: cccma_week1669.nc\n",
        "Working on: cccma_week1670.nc"
       ]
      },
      {
       "output_type": "stream",
       "stream": "stdout",
       "text": [
        "\n",
        "Working on: cccma_week1671.nc\n",
        "Working on: cccma_week1672.nc"
       ]
      },
      {
       "output_type": "stream",
       "stream": "stdout",
       "text": [
        "\n",
        "Working on: cccma_week1673.nc\n",
        "Working on: cccma_week1674.nc\n",
        "Working on: cccma_week1675.nc"
       ]
      },
      {
       "output_type": "stream",
       "stream": "stdout",
       "text": [
        "\n",
        "Working on: cccma_week1676.nc\n",
        "Working on: cccma_week1677.nc"
       ]
      },
      {
       "output_type": "stream",
       "stream": "stdout",
       "text": [
        "\n",
        "Working on: cccma_week1678.nc\n",
        "Working on: cccma_week1679.nc"
       ]
      },
      {
       "output_type": "stream",
       "stream": "stdout",
       "text": [
        "\n",
        "Working on: cccma_week1680.nc\n",
        "Working on: cccma_week1681.nc\n",
        "Working on: cccma_week1682.nc"
       ]
      },
      {
       "output_type": "stream",
       "stream": "stdout",
       "text": [
        "\n",
        "Working on: cccma_week1683.nc\n",
        "Working on: cccma_week1684.nc\n",
        "Working on: cccma_week1685.nc"
       ]
      },
      {
       "output_type": "stream",
       "stream": "stdout",
       "text": [
        "\n",
        "Working on: cccma_week1686.nc\n",
        "Working on: cccma_week1687.nc"
       ]
      },
      {
       "output_type": "stream",
       "stream": "stdout",
       "text": [
        "\n",
        "Working on: cccma_week1688.nc\n",
        "Working on: cccma_week1689.nc\n",
        "Working on: cccma_week1690.nc"
       ]
      },
      {
       "output_type": "stream",
       "stream": "stdout",
       "text": [
        "\n",
        "Working on: cccma_week1691.nc\n",
        "Working on: cccma_week1692.nc\n",
        "Working on: cccma_week1693.nc"
       ]
      },
      {
       "output_type": "stream",
       "stream": "stdout",
       "text": [
        "\n",
        "Working on: cccma_week1694.nc\n",
        "Working on: cccma_week1695.nc"
       ]
      },
      {
       "output_type": "stream",
       "stream": "stdout",
       "text": [
        "\n",
        "Working on: cccma_week1696.nc\n",
        "Working on: cccma_week1697.nc\n",
        "Working on: cccma_week1698.nc"
       ]
      },
      {
       "output_type": "stream",
       "stream": "stdout",
       "text": [
        "\n",
        "Working on: cccma_week1699.nc\n",
        "Working on: cccma_week1700.nc"
       ]
      },
      {
       "output_type": "stream",
       "stream": "stdout",
       "text": [
        "\n",
        "Working on: cccma_week1701.nc\n",
        "Working on: cccma_week1702.nc\n",
        "Working on: cccma_week1703.nc"
       ]
      },
      {
       "output_type": "stream",
       "stream": "stdout",
       "text": [
        "\n",
        "Working on: cccma_week1704.nc\n",
        "Working on: cccma_week1705.nc"
       ]
      },
      {
       "output_type": "stream",
       "stream": "stdout",
       "text": [
        "\n",
        "Working on: cccma_week1706.nc\n",
        "Working on: cccma_week1707.nc"
       ]
      },
      {
       "output_type": "stream",
       "stream": "stdout",
       "text": [
        "\n",
        "Working on: cccma_week1708.nc\n",
        "Working on: cccma_week1709.nc"
       ]
      },
      {
       "output_type": "stream",
       "stream": "stdout",
       "text": [
        "\n",
        "Working on: cccma_week1710.nc\n",
        "Working on: cccma_week1711.nc\n",
        "Working on: cccma_week1712.nc"
       ]
      },
      {
       "output_type": "stream",
       "stream": "stdout",
       "text": [
        "\n",
        "Working on: cccma_week1713.nc\n",
        "Working on: cccma_week1714.nc\n",
        "Working on: cccma_week1715.nc"
       ]
      },
      {
       "output_type": "stream",
       "stream": "stdout",
       "text": [
        "\n",
        "Working on: cccma_week1716.nc\n",
        "Working on: cccma_week1717.nc"
       ]
      },
      {
       "output_type": "stream",
       "stream": "stdout",
       "text": [
        "\n",
        "Working on: cccma_week1718.nc\n",
        "Working on: cccma_week1719.nc\n",
        "Working on: cccma_week1720.nc"
       ]
      },
      {
       "output_type": "stream",
       "stream": "stdout",
       "text": [
        "\n",
        "Working on: cccma_week1721.nc\n",
        "Working on: cccma_week1722.nc\n",
        "Working on: cccma_week1723.nc"
       ]
      },
      {
       "output_type": "stream",
       "stream": "stdout",
       "text": [
        "\n",
        "Working on: cccma_week1724.nc\n",
        "Working on: cccma_week1725.nc"
       ]
      },
      {
       "output_type": "stream",
       "stream": "stdout",
       "text": [
        "\n",
        "Working on: cccma_week1726.nc\n",
        "Working on: cccma_week1727.nc"
       ]
      },
      {
       "output_type": "stream",
       "stream": "stdout",
       "text": [
        "\n",
        "Working on: cccma_week1728.nc\n",
        "Working on: cccma_week1729.nc\n",
        "Working on: cccma_week1730.nc"
       ]
      },
      {
       "output_type": "stream",
       "stream": "stdout",
       "text": [
        "\n",
        "Working on: cccma_week1731.nc\n",
        "Working on: cccma_week1732.nc\n",
        "Working on: cccma_week1733.nc"
       ]
      },
      {
       "output_type": "stream",
       "stream": "stdout",
       "text": [
        "\n",
        "Working on: cccma_week1734.nc\n",
        "Working on: cccma_week1735.nc"
       ]
      },
      {
       "output_type": "stream",
       "stream": "stdout",
       "text": [
        "\n",
        "Working on: cccma_week1736.nc\n",
        "Working on: cccma_week1737.nc"
       ]
      },
      {
       "output_type": "stream",
       "stream": "stdout",
       "text": [
        "\n",
        "Working on: cccma_week1738.nc\n",
        "Working on: cccma_week1739.nc\n",
        "Working on: cccma_week1740.nc"
       ]
      },
      {
       "output_type": "stream",
       "stream": "stdout",
       "text": [
        "\n",
        "Working on: cccma_week1741.nc\n",
        "Working on: cccma_week1742.nc"
       ]
      },
      {
       "output_type": "stream",
       "stream": "stdout",
       "text": [
        "\n",
        "Working on: cccma_week1743.nc\n",
        "Working on: cccma_week1744.nc\n",
        "Working on: cccma_week1745.nc"
       ]
      },
      {
       "output_type": "stream",
       "stream": "stdout",
       "text": [
        "\n",
        "Working on: cccma_week1746.nc\n",
        "Working on: cccma_week1747.nc\n",
        "Working on: cccma_week1748.nc"
       ]
      },
      {
       "output_type": "stream",
       "stream": "stdout",
       "text": [
        "\n",
        "Working on: cccma_week1749.nc\n",
        "Working on: cccma_week1750.nc"
       ]
      },
      {
       "output_type": "stream",
       "stream": "stdout",
       "text": [
        "\n",
        "Working on: cccma_week1751.nc\n",
        "Working on: cccma_week1752.nc\n",
        "Working on: cccma_week1753.nc"
       ]
      },
      {
       "output_type": "stream",
       "stream": "stdout",
       "text": [
        "\n",
        "Working on: cccma_week1754.nc\n",
        "Working on: cccma_week1755.nc"
       ]
      },
      {
       "output_type": "stream",
       "stream": "stdout",
       "text": [
        "\n",
        "Working on: cccma_week1756.nc\n",
        "Working on: cccma_week1757.nc\n",
        "Working on: cccma_week1758.nc"
       ]
      },
      {
       "output_type": "stream",
       "stream": "stdout",
       "text": [
        "\n",
        "Working on: cccma_week1759.nc\n",
        "Working on: cccma_week1760.nc\n",
        "Working on: cccma_week1761.nc"
       ]
      },
      {
       "output_type": "stream",
       "stream": "stdout",
       "text": [
        "\n",
        "Working on: cccma_week1762.nc\n",
        "Working on: cccma_week1763.nc\n",
        "Working on: cccma_week1764.nc"
       ]
      },
      {
       "output_type": "stream",
       "stream": "stdout",
       "text": [
        "\n",
        "Working on: cccma_week1765.nc\n",
        "Working on: cccma_week1766.nc"
       ]
      },
      {
       "output_type": "stream",
       "stream": "stdout",
       "text": [
        "\n",
        "Working on: cccma_week1767.nc\n",
        "Working on: cccma_week1768.nc"
       ]
      },
      {
       "output_type": "stream",
       "stream": "stdout",
       "text": [
        "\n",
        "Working on: cccma_week1769.nc\n",
        "Working on: cccma_week1770.nc"
       ]
      },
      {
       "output_type": "stream",
       "stream": "stdout",
       "text": [
        "\n",
        "Working on: cccma_week1771.nc\n",
        "Working on: cccma_week1772.nc\n",
        "Working on: cccma_week1773.nc"
       ]
      },
      {
       "output_type": "stream",
       "stream": "stdout",
       "text": [
        "\n",
        "Working on: cccma_week1774.nc\n",
        "Working on: cccma_week1775.nc"
       ]
      },
      {
       "output_type": "stream",
       "stream": "stdout",
       "text": [
        "\n",
        "Working on: cccma_week1776.nc\n",
        "Working on: cccma_week1777.nc\n",
        "Working on: cccma_week1778.nc"
       ]
      },
      {
       "output_type": "stream",
       "stream": "stdout",
       "text": [
        "\n",
        "Working on: cccma_week1779.nc\n",
        "Working on: cccma_week1780.nc"
       ]
      },
      {
       "output_type": "stream",
       "stream": "stdout",
       "text": [
        "\n",
        "Working on: cccma_week1781.nc\n",
        "Working on: cccma_week1782.nc\n",
        "Working on: cccma_week1783.nc"
       ]
      },
      {
       "output_type": "stream",
       "stream": "stdout",
       "text": [
        "\n",
        "Working on: cccma_week1784.nc\n",
        "Working on: cccma_week1785.nc\n",
        "Working on: cccma_week1786.nc"
       ]
      },
      {
       "output_type": "stream",
       "stream": "stdout",
       "text": [
        "\n",
        "Working on: cccma_week1787.nc\n",
        "Working on: cccma_week1788.nc"
       ]
      },
      {
       "output_type": "stream",
       "stream": "stdout",
       "text": [
        "\n",
        "Working on: cccma_week1789.nc\n",
        "Working on: cccma_week1790.nc\n",
        "Working on: cccma_week1791.nc"
       ]
      },
      {
       "output_type": "stream",
       "stream": "stdout",
       "text": [
        "\n",
        "Working on: cccma_week1792.nc\n",
        "Working on: cccma_week1793.nc"
       ]
      },
      {
       "output_type": "stream",
       "stream": "stdout",
       "text": [
        "\n",
        "Working on: cccma_week1794.nc"
       ]
      },
      {
       "output_type": "stream",
       "stream": "stdout",
       "text": [
        "\n",
        "Working on: cccma_week1795.nc\n",
        "Working on: cccma_week1796.nc\n",
        "Working on: cccma_week1797.nc"
       ]
      },
      {
       "output_type": "stream",
       "stream": "stdout",
       "text": [
        "\n",
        "Working on: cccma_week1798.nc\n",
        "Working on: cccma_week1799.nc"
       ]
      },
      {
       "output_type": "stream",
       "stream": "stdout",
       "text": [
        "\n",
        "Working on: cccma_week1800.nc\n",
        "Working on: cccma_week1801.nc\n",
        "Working on: cccma_week1802.nc"
       ]
      },
      {
       "output_type": "stream",
       "stream": "stdout",
       "text": [
        "\n",
        "Working on: cccma_week1803.nc\n",
        "Working on: cccma_week1804.nc\n",
        "Working on: cccma_week1805.nc"
       ]
      },
      {
       "output_type": "stream",
       "stream": "stdout",
       "text": [
        "\n",
        "Working on: cccma_week1806.nc\n",
        "Working on: cccma_week1807.nc"
       ]
      },
      {
       "output_type": "stream",
       "stream": "stdout",
       "text": [
        "\n",
        "Working on: cccma_week1808.nc\n",
        "Working on: cccma_week1809.nc\n",
        "Working on: cccma_week1810.nc"
       ]
      },
      {
       "output_type": "stream",
       "stream": "stdout",
       "text": [
        "\n",
        "Working on: cccma_week1811.nc\n",
        "Working on: cccma_week1812.nc\n",
        "Working on: cccma_week1813.nc"
       ]
      },
      {
       "output_type": "stream",
       "stream": "stdout",
       "text": [
        "\n",
        "Working on: cccma_week1814.nc\n",
        "Working on: cccma_week1815.nc\n",
        "Working on: cccma_week1816.nc"
       ]
      },
      {
       "output_type": "stream",
       "stream": "stdout",
       "text": [
        "\n",
        "Working on: cccma_week1817.nc\n",
        "Working on: cccma_week1818.nc"
       ]
      },
      {
       "output_type": "stream",
       "stream": "stdout",
       "text": [
        "\n",
        "Working on: cccma_week1819.nc\n",
        "Working on: cccma_week1820.nc"
       ]
      },
      {
       "output_type": "stream",
       "stream": "stdout",
       "text": [
        "\n",
        "Working on: cccma_week1821.nc\n",
        "Working on: cccma_week1822.nc\n",
        "Working on: cccma_week1823.nc"
       ]
      },
      {
       "output_type": "stream",
       "stream": "stdout",
       "text": [
        "\n",
        "Working on: cccma_week1824.nc\n",
        "Working on: cccma_week1825.nc"
       ]
      },
      {
       "output_type": "stream",
       "stream": "stdout",
       "text": [
        "\n",
        "Working on: cccma_week1826.nc\n",
        "Working on: cccma_week1827.nc"
       ]
      },
      {
       "output_type": "stream",
       "stream": "stdout",
       "text": [
        "\n",
        "Working on: cccma_week1828.nc\n",
        "Working on: cccma_week1829.nc"
       ]
      },
      {
       "output_type": "stream",
       "stream": "stdout",
       "text": [
        "\n",
        "Working on: cccma_week1830.nc\n",
        "Working on: cccma_week1831.nc\n",
        "Working on: cccma_week1832.nc"
       ]
      },
      {
       "output_type": "stream",
       "stream": "stdout",
       "text": [
        "\n",
        "Working on: cccma_week1833.nc\n",
        "Working on: cccma_week1834.nc"
       ]
      },
      {
       "output_type": "stream",
       "stream": "stdout",
       "text": [
        "\n",
        "Working on: cccma_week1835.nc\n",
        "Working on: cccma_week1836.nc"
       ]
      },
      {
       "output_type": "stream",
       "stream": "stdout",
       "text": [
        "\n",
        "Working on: cccma_week1837.nc\n",
        "Working on: cccma_week1838.nc"
       ]
      },
      {
       "output_type": "stream",
       "stream": "stdout",
       "text": [
        "\n",
        "Working on: cccma_week1839.nc\n",
        "Working on: cccma_week1840.nc"
       ]
      },
      {
       "output_type": "stream",
       "stream": "stdout",
       "text": [
        "\n",
        "Working on: cccma_week1841.nc\n",
        "Working on: cccma_week1842.nc"
       ]
      },
      {
       "output_type": "stream",
       "stream": "stdout",
       "text": [
        "\n",
        "Working on: cccma_week1843.nc\n",
        "Working on: cccma_week1844.nc\n",
        "Working on: cccma_week1845.nc"
       ]
      },
      {
       "output_type": "stream",
       "stream": "stdout",
       "text": [
        "\n",
        "Working on: cccma_week1846.nc\n",
        "Working on: cccma_week1847.nc\n",
        "Working on: cccma_week1848.nc"
       ]
      },
      {
       "output_type": "stream",
       "stream": "stdout",
       "text": [
        "\n",
        "Working on: cccma_week1849.nc\n",
        "Working on: cccma_week1850.nc\n",
        "Working on: cccma_week1851.nc\n",
        "Working on: cccma_week1852.nc"
       ]
      },
      {
       "output_type": "stream",
       "stream": "stdout",
       "text": [
        "\n",
        "Working on: cccma_week1853.nc\n",
        "Working on: cccma_week1854.nc\n",
        "Working on: cccma_week1855.nc"
       ]
      },
      {
       "output_type": "stream",
       "stream": "stdout",
       "text": [
        "\n",
        "Working on: cccma_week1856.nc\n",
        "Working on: cccma_week1857.nc\n",
        "Working on: cccma_week1858.nc"
       ]
      },
      {
       "output_type": "stream",
       "stream": "stdout",
       "text": [
        "\n",
        "Working on: cccma_week1859.nc\n",
        "Working on: cccma_week1860.nc\n",
        "Working on: cccma_week1861.nc"
       ]
      },
      {
       "output_type": "stream",
       "stream": "stdout",
       "text": [
        "\n",
        "Working on: cccma_week1862.nc\n",
        "Working on: cccma_week1863.nc"
       ]
      },
      {
       "output_type": "stream",
       "stream": "stdout",
       "text": [
        "\n",
        "Working on: cccma_week1864.nc\n",
        "Working on: cccma_week1865.nc"
       ]
      },
      {
       "output_type": "stream",
       "stream": "stdout",
       "text": [
        "\n",
        "Working on: cccma_week1866.nc\n",
        "Working on: cccma_week1867.nc"
       ]
      },
      {
       "output_type": "stream",
       "stream": "stdout",
       "text": [
        "\n",
        "Working on: cccma_week1868.nc\n",
        "Working on: cccma_week1869.nc"
       ]
      },
      {
       "output_type": "stream",
       "stream": "stdout",
       "text": [
        "\n",
        "Working on: cccma_week1870.nc\n",
        "Working on: cccma_week1871.nc\n",
        "Working on: cccma_week1872.nc"
       ]
      },
      {
       "output_type": "stream",
       "stream": "stdout",
       "text": [
        "\n",
        "Working on: cccma_week1873.nc\n",
        "Working on: cccma_week1874.nc\n",
        "Working on: cccma_week1875.nc"
       ]
      },
      {
       "output_type": "stream",
       "stream": "stdout",
       "text": [
        "\n",
        "Working on: cccma_week1876.nc\n",
        "Working on: cccma_week1877.nc\n",
        "Working on: cccma_week1878.nc"
       ]
      },
      {
       "output_type": "stream",
       "stream": "stdout",
       "text": [
        "\n",
        "Working on: cccma_week1879.nc\n",
        "Working on: cccma_week1880.nc\n",
        "Working on: cccma_week1881.nc"
       ]
      },
      {
       "output_type": "stream",
       "stream": "stdout",
       "text": [
        "\n",
        "Working on: cccma_week1882.nc\n",
        "Working on: cccma_week1883.nc\n",
        "Working on: cccma_week1884.nc"
       ]
      },
      {
       "output_type": "stream",
       "stream": "stdout",
       "text": [
        "\n",
        "Working on: cccma_week1885.nc\n",
        "Working on: cccma_week1886.nc\n",
        "Working on: cccma_week1887.nc"
       ]
      },
      {
       "output_type": "stream",
       "stream": "stdout",
       "text": [
        "\n",
        "Working on: cccma_week1888.nc\n",
        "Working on: cccma_week1889.nc\n",
        "Working on: cccma_week1890.nc"
       ]
      },
      {
       "output_type": "stream",
       "stream": "stdout",
       "text": [
        "\n",
        "Working on: cccma_week1891.nc\n",
        "Working on: cccma_week1892.nc\n",
        "Working on: cccma_week1893.nc"
       ]
      },
      {
       "output_type": "stream",
       "stream": "stdout",
       "text": [
        "\n",
        "Working on: cccma_week1894.nc\n",
        "Working on: cccma_week1895.nc\n",
        "Working on: cccma_week1896.nc"
       ]
      },
      {
       "output_type": "stream",
       "stream": "stdout",
       "text": [
        "\n",
        "Working on: cccma_week1897.nc\n",
        "Working on: cccma_week1898.nc\n",
        "Working on: cccma_week1899.nc"
       ]
      },
      {
       "output_type": "stream",
       "stream": "stdout",
       "text": [
        "\n",
        "Working on: cccma_week1900.nc\n",
        "Working on: cccma_week1901.nc\n",
        "Working on: cccma_week1902.nc"
       ]
      },
      {
       "output_type": "stream",
       "stream": "stdout",
       "text": [
        "\n",
        "Working on: cccma_week1903.nc\n",
        "Working on: cccma_week1904.nc"
       ]
      },
      {
       "output_type": "stream",
       "stream": "stdout",
       "text": [
        "\n",
        "Working on: cccma_week1905.nc\n",
        "Working on: cccma_week1906.nc"
       ]
      },
      {
       "output_type": "stream",
       "stream": "stdout",
       "text": [
        "\n",
        "Working on: cccma_week1907.nc\n",
        "Working on: cccma_week1908.nc\n",
        "Working on: cccma_week1909.nc"
       ]
      },
      {
       "output_type": "stream",
       "stream": "stdout",
       "text": [
        "\n",
        "Working on: cccma_week1910.nc\n",
        "Working on: cccma_week1911.nc\n",
        "Working on: cccma_week1912.nc"
       ]
      },
      {
       "output_type": "stream",
       "stream": "stdout",
       "text": [
        "\n",
        "Working on: cccma_week1913.nc\n",
        "Working on: cccma_week1914.nc\n",
        "Working on: cccma_week1915.nc"
       ]
      },
      {
       "output_type": "stream",
       "stream": "stdout",
       "text": [
        "\n",
        "Working on: cccma_week1916.nc\n",
        "Working on: cccma_week1917.nc"
       ]
      },
      {
       "output_type": "stream",
       "stream": "stdout",
       "text": [
        "\n",
        "Working on: cccma_week1918.nc\n",
        "Working on: cccma_week1919.nc\n",
        "Working on: cccma_week1920.nc"
       ]
      },
      {
       "output_type": "stream",
       "stream": "stdout",
       "text": [
        "\n",
        "Working on: cccma_week1921.nc\n",
        "Working on: cccma_week1922.nc\n",
        "Working on: cccma_week1923.nc"
       ]
      },
      {
       "output_type": "stream",
       "stream": "stdout",
       "text": [
        "\n",
        "Working on: cccma_week1924.nc\n",
        "Working on: cccma_week1925.nc\n",
        "Working on: cccma_week1926.nc"
       ]
      },
      {
       "output_type": "stream",
       "stream": "stdout",
       "text": [
        "\n",
        "Working on: cccma_week1927.nc\n",
        "Working on: cccma_week1928.nc"
       ]
      },
      {
       "output_type": "stream",
       "stream": "stdout",
       "text": [
        "\n",
        "Working on: cccma_week1929.nc\n",
        "Working on: cccma_week1930.nc\n",
        "Working on: cccma_week1931.nc"
       ]
      },
      {
       "output_type": "stream",
       "stream": "stdout",
       "text": [
        "\n",
        "Working on: cccma_week1932.nc\n",
        "Working on: cccma_week1933.nc\n",
        "Working on: cccma_week1934.nc"
       ]
      },
      {
       "output_type": "stream",
       "stream": "stdout",
       "text": [
        "\n",
        "Working on: cccma_week1935.nc\n",
        "Working on: cccma_week1936.nc\n",
        "Working on: cccma_week1937.nc"
       ]
      },
      {
       "output_type": "stream",
       "stream": "stdout",
       "text": [
        "\n",
        "Working on: cccma_week1938.nc\n",
        "Working on: cccma_week1939.nc"
       ]
      },
      {
       "output_type": "stream",
       "stream": "stdout",
       "text": [
        "\n",
        "Working on: cccma_week1940.nc\n",
        "Working on: cccma_week1941.nc\n",
        "Working on: cccma_week1942.nc"
       ]
      },
      {
       "output_type": "stream",
       "stream": "stdout",
       "text": [
        "\n",
        "Working on: cccma_week1943.nc\n",
        "Working on: cccma_week1944.nc\n",
        "Working on: cccma_week1945.nc"
       ]
      },
      {
       "output_type": "stream",
       "stream": "stdout",
       "text": [
        "\n",
        "Working on: cccma_week1946.nc\n",
        "Working on: cccma_week1947.nc\n",
        "Working on: cccma_week1948.nc"
       ]
      },
      {
       "output_type": "stream",
       "stream": "stdout",
       "text": [
        "\n",
        "Working on: cccma_week1949.nc\n",
        "Working on: cccma_week1950.nc\n",
        "Working on: cccma_week1951.nc"
       ]
      },
      {
       "output_type": "stream",
       "stream": "stdout",
       "text": [
        "\n",
        "Working on: cccma_week1952.nc\n",
        "Working on: cccma_week1953.nc"
       ]
      },
      {
       "output_type": "stream",
       "stream": "stdout",
       "text": [
        "\n",
        "Working on: cccma_week1954.nc\n",
        "Working on: cccma_week1955.nc\n",
        "Working on: cccma_week1956.nc"
       ]
      },
      {
       "output_type": "stream",
       "stream": "stdout",
       "text": [
        "\n",
        "Working on: cccma_week1957.nc\n",
        "Working on: cccma_week1958.nc"
       ]
      },
      {
       "output_type": "stream",
       "stream": "stdout",
       "text": [
        "\n",
        "Working on: cccma_week1959.nc\n",
        "Working on: cccma_week1960.nc"
       ]
      },
      {
       "output_type": "stream",
       "stream": "stdout",
       "text": [
        "\n",
        "Working on: cccma_week1961.nc\n",
        "Working on: cccma_week1962.nc\n",
        "Working on: cccma_week1963.nc"
       ]
      },
      {
       "output_type": "stream",
       "stream": "stdout",
       "text": [
        "\n",
        "Working on: cccma_week1964.nc\n",
        "Working on: cccma_week1965.nc\n",
        "Working on: cccma_week1966.nc"
       ]
      },
      {
       "output_type": "stream",
       "stream": "stdout",
       "text": [
        "\n",
        "Working on: cccma_week1967.nc\n",
        "Working on: cccma_week1968.nc\n",
        "Working on: cccma_week1969.nc"
       ]
      },
      {
       "output_type": "stream",
       "stream": "stdout",
       "text": [
        "\n",
        "Working on: cccma_week1970.nc\n",
        "Working on: cccma_week1971.nc\n",
        "Working on: cccma_week1972.nc"
       ]
      },
      {
       "output_type": "stream",
       "stream": "stdout",
       "text": [
        "\n",
        "Working on: cccma_week1973.nc\n",
        "Working on: cccma_week1974.nc"
       ]
      },
      {
       "output_type": "stream",
       "stream": "stdout",
       "text": [
        "\n",
        "Working on: cccma_week1975.nc\n",
        "Working on: cccma_week1976.nc"
       ]
      },
      {
       "output_type": "stream",
       "stream": "stdout",
       "text": [
        "\n",
        "Working on: cccma_week1977.nc\n",
        "Working on: cccma_week1978.nc\n",
        "Working on: cccma_week1979.nc"
       ]
      },
      {
       "output_type": "stream",
       "stream": "stdout",
       "text": [
        "\n",
        "Working on: cccma_week1980.nc\n",
        "Working on: cccma_week1981.nc\n",
        "Working on: cccma_week1982.nc"
       ]
      },
      {
       "output_type": "stream",
       "stream": "stdout",
       "text": [
        "\n",
        "Working on: cccma_week1983.nc\n",
        "Working on: cccma_week1984.nc"
       ]
      },
      {
       "output_type": "stream",
       "stream": "stdout",
       "text": [
        "\n",
        "Working on: cccma_week1985.nc\n",
        "Working on: cccma_week1986.nc"
       ]
      },
      {
       "output_type": "stream",
       "stream": "stdout",
       "text": [
        "\n",
        "Working on: cccma_week1987.nc\n",
        "Working on: cccma_week1988.nc\n",
        "Working on: cccma_week1989.nc"
       ]
      },
      {
       "output_type": "stream",
       "stream": "stdout",
       "text": [
        "\n",
        "Working on: cccma_week1990.nc\n",
        "Working on: cccma_week1991.nc\n",
        "Working on: cccma_week1992.nc"
       ]
      },
      {
       "output_type": "stream",
       "stream": "stdout",
       "text": [
        "\n",
        "Working on: cccma_week1993.nc\n",
        "Working on: cccma_week1994.nc"
       ]
      },
      {
       "output_type": "stream",
       "stream": "stdout",
       "text": [
        "\n",
        "Working on: cccma_week1995.nc\n",
        "Working on: cccma_week1996.nc\n",
        "Working on: cccma_week1997.nc"
       ]
      },
      {
       "output_type": "stream",
       "stream": "stdout",
       "text": [
        "\n",
        "Working on: cccma_week1998.nc\n",
        "Working on: cccma_week1999.nc"
       ]
      },
      {
       "output_type": "stream",
       "stream": "stdout",
       "text": [
        "\n",
        "Working on: cccma_week2000.nc"
       ]
      },
      {
       "output_type": "stream",
       "stream": "stdout",
       "text": [
        "\n",
        "Working on: cccma_week2001.nc\n",
        "Working on: cccma_week2002.nc\n",
        "Working on: cccma_week2003.nc"
       ]
      },
      {
       "output_type": "stream",
       "stream": "stdout",
       "text": [
        "\n",
        "Working on: cccma_week2004.nc\n",
        "Working on: cccma_week2005.nc"
       ]
      },
      {
       "output_type": "stream",
       "stream": "stdout",
       "text": [
        "\n",
        "Working on: cccma_week2006.nc\n",
        "Working on: cccma_week2007.nc"
       ]
      },
      {
       "output_type": "stream",
       "stream": "stdout",
       "text": [
        "\n",
        "Working on: cccma_week2008.nc\n",
        "Working on: cccma_week2009.nc"
       ]
      },
      {
       "output_type": "stream",
       "stream": "stdout",
       "text": [
        "\n",
        "Working on: cccma_week2010.nc\n",
        "Working on: cccma_week2011.nc\n",
        "Working on: cccma_week2012.nc"
       ]
      },
      {
       "output_type": "stream",
       "stream": "stdout",
       "text": [
        "\n",
        "Working on: cccma_week2013.nc\n",
        "Working on: cccma_week2014.nc\n",
        "Working on: cccma_week2015.nc"
       ]
      },
      {
       "output_type": "stream",
       "stream": "stdout",
       "text": [
        "\n",
        "Working on: cccma_week2016.nc\n",
        "Working on: cccma_week2017.nc\n",
        "Working on: cccma_week2018.nc"
       ]
      },
      {
       "output_type": "stream",
       "stream": "stdout",
       "text": [
        "\n",
        "Working on: cccma_week2019.nc\n",
        "Working on: cccma_week2020.nc"
       ]
      },
      {
       "output_type": "stream",
       "stream": "stdout",
       "text": [
        "\n",
        "Working on: cccma_week2021.nc\n",
        "Working on: cccma_week2022.nc"
       ]
      },
      {
       "output_type": "stream",
       "stream": "stdout",
       "text": [
        "\n",
        "Working on: cccma_week2023.nc\n",
        "Working on: cccma_week2024.nc\n",
        "Working on: cccma_week2025.nc"
       ]
      },
      {
       "output_type": "stream",
       "stream": "stdout",
       "text": [
        "\n",
        "Working on: cccma_week2026.nc\n",
        "Working on: cccma_week2027.nc"
       ]
      },
      {
       "output_type": "stream",
       "stream": "stdout",
       "text": [
        "\n",
        "Working on: cccma_week2028.nc\n",
        "Working on: cccma_week2029.nc"
       ]
      },
      {
       "output_type": "stream",
       "stream": "stdout",
       "text": [
        "\n",
        "Working on: cccma_week2030.nc\n",
        "Working on: cccma_week2031.nc\n",
        "Working on: cccma_week2032.nc"
       ]
      },
      {
       "output_type": "stream",
       "stream": "stdout",
       "text": [
        "\n",
        "Working on: cccma_week2033.nc\n",
        "Working on: cccma_week2034.nc"
       ]
      },
      {
       "output_type": "stream",
       "stream": "stdout",
       "text": [
        "\n",
        "Working on: cccma_week2035.nc\n",
        "Working on: cccma_week2036.nc"
       ]
      },
      {
       "output_type": "stream",
       "stream": "stdout",
       "text": [
        "\n",
        "Working on: cccma_week2037.nc\n",
        "Working on: cccma_week2038.nc\n",
        "Working on: cccma_week2039.nc"
       ]
      },
      {
       "output_type": "stream",
       "stream": "stdout",
       "text": [
        "\n",
        "Working on: cccma_week2040.nc\n",
        "Working on: cccma_week2041.nc\n",
        "Working on: cccma_week2042.nc"
       ]
      },
      {
       "output_type": "stream",
       "stream": "stdout",
       "text": [
        "\n",
        "Working on: cccma_week2043.nc\n",
        "Working on: cccma_week2044.nc\n",
        "Working on: cccma_week2045.nc"
       ]
      },
      {
       "output_type": "stream",
       "stream": "stdout",
       "text": [
        "\n",
        "Working on: cccma_week2046.nc\n",
        "Working on: cccma_week2047.nc"
       ]
      },
      {
       "output_type": "stream",
       "stream": "stdout",
       "text": [
        "\n",
        "Working on: cccma_week2048.nc\n",
        "Working on: cccma_week2049.nc"
       ]
      },
      {
       "output_type": "stream",
       "stream": "stdout",
       "text": [
        "\n",
        "Working on: cccma_week2050.nc\n",
        "Working on: cccma_week2051.nc"
       ]
      },
      {
       "output_type": "stream",
       "stream": "stdout",
       "text": [
        "\n",
        "Working on: cccma_week2052.nc\n",
        "Working on: cccma_week2053.nc\n",
        "Working on: cccma_week2054.nc"
       ]
      },
      {
       "output_type": "stream",
       "stream": "stdout",
       "text": [
        "\n",
        "Working on: cccma_week2055.nc\n",
        "Working on: cccma_week2056.nc"
       ]
      },
      {
       "output_type": "stream",
       "stream": "stdout",
       "text": [
        "\n",
        "Working on: cccma_week2057.nc\n",
        "Working on: cccma_week2058.nc"
       ]
      },
      {
       "output_type": "stream",
       "stream": "stdout",
       "text": [
        "\n",
        "Working on: cccma_week2059.nc\n",
        "Working on: cccma_week2060.nc\n",
        "Working on: cccma_week2061.nc"
       ]
      },
      {
       "output_type": "stream",
       "stream": "stdout",
       "text": [
        "\n",
        "Working on: cccma_week2062.nc\n",
        "Working on: cccma_week2063.nc"
       ]
      },
      {
       "output_type": "stream",
       "stream": "stdout",
       "text": [
        "\n",
        "Working on: cccma_week2064.nc\n",
        "Working on: cccma_week2065.nc"
       ]
      },
      {
       "output_type": "stream",
       "stream": "stdout",
       "text": [
        "\n",
        "Working on: cccma_week2066.nc\n",
        "Working on: cccma_week2067.nc\n",
        "Working on: cccma_week2068.nc"
       ]
      },
      {
       "output_type": "stream",
       "stream": "stdout",
       "text": [
        "\n",
        "Working on: cccma_week2069.nc\n",
        "Working on: cccma_week2070.nc"
       ]
      },
      {
       "output_type": "stream",
       "stream": "stdout",
       "text": [
        "\n",
        "Working on: cccma_week2071.nc\n",
        "Working on: cccma_week2072.nc\n",
        "Working on: cccma_week2073.nc"
       ]
      },
      {
       "output_type": "stream",
       "stream": "stdout",
       "text": [
        "\n",
        "Working on: cccma_week2074.nc\n",
        "Working on: cccma_week2075.nc"
       ]
      },
      {
       "output_type": "stream",
       "stream": "stdout",
       "text": [
        "\n",
        "Working on: cccma_week2076.nc\n",
        "Working on: cccma_week2077.nc\n",
        "Working on: cccma_week2078.nc"
       ]
      },
      {
       "output_type": "stream",
       "stream": "stdout",
       "text": [
        "\n",
        "Working on: cccma_week2079.nc\n",
        "Working on: cccma_week2080.nc\n",
        "Working on: cccma_week2081.nc"
       ]
      },
      {
       "output_type": "stream",
       "stream": "stdout",
       "text": [
        "\n",
        "Working on: cccma_week2082.nc\n",
        "Working on: cccma_week2083.nc"
       ]
      },
      {
       "output_type": "stream",
       "stream": "stdout",
       "text": [
        "\n",
        "Working on: cccma_week2084.nc\n",
        "Working on: cccma_week2085.nc\n",
        "Working on: cccma_week2086.nc"
       ]
      },
      {
       "output_type": "stream",
       "stream": "stdout",
       "text": [
        "\n",
        "Working on: cccma_week2087.nc\n",
        "Working on: cccma_week2088.nc"
       ]
      },
      {
       "output_type": "stream",
       "stream": "stdout",
       "text": [
        "\n",
        "Working on: cccma_week2089.nc\n",
        "Working on: cccma_week2090.nc\n",
        "Working on: cccma_week2091.nc"
       ]
      },
      {
       "output_type": "stream",
       "stream": "stdout",
       "text": [
        "\n",
        "Working on: cccma_week2092.nc\n",
        "Working on: cccma_week2093.nc\n",
        "Working on: cccma_week2094.nc"
       ]
      },
      {
       "output_type": "stream",
       "stream": "stdout",
       "text": [
        "\n",
        "Working on: cccma_week2095.nc\n",
        "Working on: cccma_week2096.nc"
       ]
      },
      {
       "output_type": "stream",
       "stream": "stdout",
       "text": [
        "\n",
        "Working on: cccma_week2097.nc\n",
        "Working on: cccma_week2098.nc\n",
        "Working on: cccma_week2099.nc"
       ]
      },
      {
       "output_type": "stream",
       "stream": "stdout",
       "text": [
        "\n",
        "Working on: cccma_week2100.nc\n",
        "Working on: cccma_week2101.nc"
       ]
      },
      {
       "output_type": "stream",
       "stream": "stdout",
       "text": [
        "\n",
        "Working on: cccma_week2102.nc\n",
        "Working on: cccma_week2103.nc"
       ]
      },
      {
       "output_type": "stream",
       "stream": "stdout",
       "text": [
        "\n",
        "Working on: cccma_week2104.nc\n",
        "Working on: cccma_week2105.nc\n",
        "Working on: cccma_week2106.nc"
       ]
      },
      {
       "output_type": "stream",
       "stream": "stdout",
       "text": [
        "\n",
        "Working on: cccma_week2107.nc\n",
        "Working on: cccma_week2108.nc\n",
        "Working on: cccma_week2109.nc"
       ]
      },
      {
       "output_type": "stream",
       "stream": "stdout",
       "text": [
        "\n",
        "Working on: cccma_week2110.nc\n",
        "Working on: cccma_week2111.nc\n",
        "Working on: cccma_week2112.nc"
       ]
      },
      {
       "output_type": "stream",
       "stream": "stdout",
       "text": [
        "\n",
        "Working on: cccma_week2113.nc\n",
        "Working on: cccma_week2114.nc"
       ]
      },
      {
       "output_type": "stream",
       "stream": "stdout",
       "text": [
        "\n",
        "Working on: cccma_week2115.nc\n",
        "Working on: cccma_week2116.nc"
       ]
      },
      {
       "output_type": "stream",
       "stream": "stdout",
       "text": [
        "\n",
        "Working on: cccma_week2117.nc\n",
        "Working on: cccma_week2118.nc\n",
        "Working on: cccma_week2119.nc"
       ]
      },
      {
       "output_type": "stream",
       "stream": "stdout",
       "text": [
        "\n",
        "Working on: cccma_week2120.nc\n",
        "Working on: cccma_week2121.nc\n",
        "Working on: cccma_week2122.nc"
       ]
      },
      {
       "output_type": "stream",
       "stream": "stdout",
       "text": [
        "\n",
        "Working on: cccma_week2123.nc\n",
        "Working on: cccma_week2124.nc\n",
        "Working on: cccma_week2125.nc"
       ]
      },
      {
       "output_type": "stream",
       "stream": "stdout",
       "text": [
        "\n",
        "Working on: cccma_week2126.nc\n",
        "Working on: cccma_week2127.nc"
       ]
      },
      {
       "output_type": "stream",
       "stream": "stdout",
       "text": [
        "\n",
        "Working on: cccma_week2128.nc\n",
        "Working on: cccma_week2129.nc"
       ]
      },
      {
       "output_type": "stream",
       "stream": "stdout",
       "text": [
        "\n",
        "Working on: cccma_week2130.nc\n",
        "Working on: cccma_week2131.nc\n",
        "Working on: cccma_week2132.nc"
       ]
      },
      {
       "output_type": "stream",
       "stream": "stdout",
       "text": [
        "\n",
        "Working on: cccma_week2133.nc\n",
        "Working on: cccma_week2134.nc"
       ]
      },
      {
       "output_type": "stream",
       "stream": "stdout",
       "text": [
        "\n",
        "Working on: cccma_week2135.nc\n",
        "Working on: cccma_week2136.nc\n",
        "Working on: cccma_week2137.nc"
       ]
      },
      {
       "output_type": "stream",
       "stream": "stdout",
       "text": [
        "\n",
        "Working on: cccma_week2138.nc\n",
        "Working on: cccma_week2139.nc"
       ]
      },
      {
       "output_type": "stream",
       "stream": "stdout",
       "text": [
        "\n",
        "Working on: cccma_week2140.nc\n",
        "Working on: cccma_week2141.nc"
       ]
      },
      {
       "output_type": "stream",
       "stream": "stdout",
       "text": [
        "\n",
        "Working on: cccma_week2142.nc\n",
        "Working on: cccma_week2143.nc\n",
        "Working on: cccma_week2144.nc"
       ]
      },
      {
       "output_type": "stream",
       "stream": "stdout",
       "text": [
        "\n",
        "Working on: cccma_week2145.nc\n",
        "Working on: cccma_week2146.nc\n",
        "Working on: cccma_week2147.nc"
       ]
      },
      {
       "output_type": "stream",
       "stream": "stdout",
       "text": [
        "\n",
        "Working on: cccma_week2148.nc\n",
        "Working on: cccma_week2149.nc"
       ]
      },
      {
       "output_type": "stream",
       "stream": "stdout",
       "text": [
        "\n",
        "Working on: cccma_week2150.nc\n",
        "Working on: cccma_week2151.nc\n",
        "Working on: cccma_week2152.nc"
       ]
      },
      {
       "output_type": "stream",
       "stream": "stdout",
       "text": [
        "\n",
        "Working on: cccma_week2153.nc\n",
        "Working on: cccma_week2154.nc\n",
        "Working on: cccma_week2155.nc"
       ]
      },
      {
       "output_type": "stream",
       "stream": "stdout",
       "text": [
        "\n",
        "Working on: cccma_week2156.nc\n",
        "Working on: cccma_week2157.nc"
       ]
      },
      {
       "output_type": "stream",
       "stream": "stdout",
       "text": [
        "\n",
        "Working on: cccma_week2158.nc\n",
        "Working on: cccma_week2159.nc"
       ]
      },
      {
       "output_type": "stream",
       "stream": "stdout",
       "text": [
        "\n",
        "Working on: cccma_week2160.nc\n",
        "Working on: cccma_week2161.nc\n",
        "Working on: cccma_week2162.nc"
       ]
      },
      {
       "output_type": "stream",
       "stream": "stdout",
       "text": [
        "\n",
        "Working on: cccma_week2163.nc\n",
        "Working on: cccma_week2164.nc\n",
        "Working on: cccma_week2165.nc"
       ]
      },
      {
       "output_type": "stream",
       "stream": "stdout",
       "text": [
        "\n",
        "Working on: cccma_week2166.nc\n",
        "Working on: cccma_week2167.nc\n",
        "Working on: cccma_week2168.nc"
       ]
      },
      {
       "output_type": "stream",
       "stream": "stdout",
       "text": [
        "\n",
        "Working on: cccma_week2169.nc\n",
        "Working on: cccma_week2170.nc\n",
        "Working on: cccma_week2171.nc"
       ]
      },
      {
       "output_type": "stream",
       "stream": "stdout",
       "text": [
        "\n",
        "Working on: cccma_week2172.nc\n",
        "Working on: cccma_week2173.nc\n",
        "Working on: cccma_week2174.nc"
       ]
      },
      {
       "output_type": "stream",
       "stream": "stdout",
       "text": [
        "\n",
        "Working on: cccma_week2175.nc\n",
        "Working on: cccma_week2176.nc\n",
        "Working on: cccma_week2177.nc"
       ]
      },
      {
       "output_type": "stream",
       "stream": "stdout",
       "text": [
        "\n",
        "Working on: cccma_week2178.nc\n",
        "Working on: cccma_week2179.nc"
       ]
      },
      {
       "output_type": "stream",
       "stream": "stdout",
       "text": [
        "\n",
        "Working on: cccma_week2180.nc\n",
        "Working on: cccma_week2181.nc\n",
        "Working on: cccma_week2182.nc"
       ]
      },
      {
       "output_type": "stream",
       "stream": "stdout",
       "text": [
        "\n",
        "Working on: cccma_week2183.nc\n",
        "Working on: cccma_week2184.nc\n",
        "Working on: cccma_week2185.nc"
       ]
      },
      {
       "output_type": "stream",
       "stream": "stdout",
       "text": [
        "\n",
        "Working on: cccma_week2186.nc\n",
        "Working on: cccma_week2187.nc\n",
        "Working on: cccma_week2188.nc"
       ]
      },
      {
       "output_type": "stream",
       "stream": "stdout",
       "text": [
        "\n",
        "Working on: cccma_week2189.nc\n",
        "Working on: cccma_week2190.nc"
       ]
      },
      {
       "output_type": "stream",
       "stream": "stdout",
       "text": [
        "\n",
        "Working on: cccma_week2191.nc\n",
        "Working on: cccma_week2192.nc"
       ]
      },
      {
       "output_type": "stream",
       "stream": "stdout",
       "text": [
        "\n",
        "Working on: cccma_week2193.nc\n",
        "Working on: cccma_week2194.nc\n",
        "Working on: cccma_week2195.nc"
       ]
      },
      {
       "output_type": "stream",
       "stream": "stdout",
       "text": [
        "\n",
        "Working on: cccma_week2196.nc\n",
        "Working on: cccma_week2197.nc\n",
        "Working on: cccma_week2198.nc"
       ]
      },
      {
       "output_type": "stream",
       "stream": "stdout",
       "text": [
        "\n",
        "Working on: cccma_week2199.nc\n",
        "Working on: cccma_week2200.nc\n",
        "Working on: cccma_week2201.nc"
       ]
      },
      {
       "output_type": "stream",
       "stream": "stdout",
       "text": [
        "\n",
        "Working on: cccma_week2202.nc\n",
        "Working on: cccma_week2203.nc"
       ]
      },
      {
       "output_type": "stream",
       "stream": "stdout",
       "text": [
        "\n",
        "Working on: cccma_week2204.nc\n",
        "Working on: cccma_week2205.nc\n",
        "Working on: cccma_week2206.nc"
       ]
      },
      {
       "output_type": "stream",
       "stream": "stdout",
       "text": [
        "\n",
        "Working on: cccma_week2207.nc\n",
        "Working on: cccma_week2208.nc\n",
        "Working on: cccma_week2209.nc"
       ]
      },
      {
       "output_type": "stream",
       "stream": "stdout",
       "text": [
        "\n",
        "Working on: cccma_week2210.nc\n",
        "Working on: cccma_week2211.nc\n",
        "Working on: cccma_week2212.nc"
       ]
      },
      {
       "output_type": "stream",
       "stream": "stdout",
       "text": [
        "\n",
        "Working on: cccma_week2213.nc\n",
        "Working on: cccma_week2214.nc"
       ]
      },
      {
       "output_type": "stream",
       "stream": "stdout",
       "text": [
        "\n",
        "Working on: cccma_week2215.nc\n",
        "Working on: cccma_week2216.nc"
       ]
      },
      {
       "output_type": "stream",
       "stream": "stdout",
       "text": [
        "\n",
        "Working on: cccma_week2217.nc\n",
        "Working on: cccma_week2218.nc\n",
        "Working on: cccma_week2219.nc"
       ]
      },
      {
       "output_type": "stream",
       "stream": "stdout",
       "text": [
        "\n",
        "Working on: cccma_week2220.nc\n",
        "Working on: cccma_week2221.nc\n",
        "Working on: cccma_week2222.nc"
       ]
      },
      {
       "output_type": "stream",
       "stream": "stdout",
       "text": [
        "\n",
        "Working on: cccma_week2223.nc\n",
        "Working on: cccma_week2224.nc"
       ]
      },
      {
       "output_type": "stream",
       "stream": "stdout",
       "text": [
        "\n",
        "Working on: cccma_week2225.nc\n",
        "Working on: cccma_week2226.nc\n",
        "Working on: cccma_week2227.nc"
       ]
      },
      {
       "output_type": "stream",
       "stream": "stdout",
       "text": [
        "\n",
        "Working on: cccma_week2228.nc\n",
        "Working on: cccma_week2229.nc"
       ]
      },
      {
       "output_type": "stream",
       "stream": "stdout",
       "text": [
        "\n",
        "Working on: cccma_week2230.nc\n",
        "Working on: cccma_week2231.nc\n",
        "Working on: cccma_week2232.nc"
       ]
      },
      {
       "output_type": "stream",
       "stream": "stdout",
       "text": [
        "\n",
        "Working on: cccma_week2233.nc\n",
        "Working on: cccma_week2234.nc\n",
        "Working on: cccma_week2235.nc"
       ]
      },
      {
       "output_type": "stream",
       "stream": "stdout",
       "text": [
        "\n",
        "Working on: cccma_week2236.nc\n",
        "Working on: cccma_week2237.nc\n",
        "Working on: cccma_week2238.nc"
       ]
      },
      {
       "output_type": "stream",
       "stream": "stdout",
       "text": [
        "\n",
        "Working on: cccma_week2239.nc\n",
        "Working on: cccma_week2240.nc\n",
        "Working on: cccma_week2241.nc"
       ]
      },
      {
       "output_type": "stream",
       "stream": "stdout",
       "text": [
        "\n",
        "Working on: cccma_week2242.nc\n",
        "Working on: cccma_week2243.nc\n",
        "Working on: cccma_week2244.nc"
       ]
      },
      {
       "output_type": "stream",
       "stream": "stdout",
       "text": [
        "\n",
        "Working on: cccma_week2245.nc\n",
        "Working on: cccma_week2246.nc\n",
        "Working on: cccma_week2247.nc"
       ]
      },
      {
       "output_type": "stream",
       "stream": "stdout",
       "text": [
        "\n",
        "Working on: cccma_week2248.nc\n",
        "Working on: cccma_week2249.nc\n",
        "Working on: cccma_week2250.nc"
       ]
      },
      {
       "output_type": "stream",
       "stream": "stdout",
       "text": [
        "\n",
        "Working on: cccma_week2251.nc\n",
        "Working on: cccma_week2252.nc\n",
        "Working on: cccma_week2253.nc"
       ]
      },
      {
       "output_type": "stream",
       "stream": "stdout",
       "text": [
        "\n",
        "Working on: cccma_week2254.nc\n",
        "Working on: cccma_week2255.nc\n",
        "Working on: cccma_week2256.nc"
       ]
      },
      {
       "output_type": "stream",
       "stream": "stdout",
       "text": [
        "\n",
        "Working on: cccma_week2257.nc\n",
        "Working on: cccma_week2258.nc"
       ]
      },
      {
       "output_type": "stream",
       "stream": "stdout",
       "text": [
        "\n",
        "Working on: cccma_week2259.nc\n",
        "Working on: cccma_week2260.nc"
       ]
      },
      {
       "output_type": "stream",
       "stream": "stdout",
       "text": [
        "\n",
        "Working on: cccma_week2261.nc\n",
        "Working on: cccma_week2262.nc\n",
        "Working on: cccma_week2263.nc"
       ]
      },
      {
       "output_type": "stream",
       "stream": "stdout",
       "text": [
        "\n",
        "Working on: cccma_week2264.nc\n",
        "Working on: cccma_week2265.nc\n",
        "Working on: cccma_week2266.nc"
       ]
      },
      {
       "output_type": "stream",
       "stream": "stdout",
       "text": [
        "\n",
        "Working on: cccma_week2267.nc\n",
        "Working on: cccma_week2268.nc\n",
        "Working on: cccma_week2269.nc"
       ]
      },
      {
       "output_type": "stream",
       "stream": "stdout",
       "text": [
        "\n",
        "Working on: cccma_week2270.nc\n",
        "Working on: cccma_week2271.nc\n",
        "Working on: cccma_week2272.nc"
       ]
      },
      {
       "output_type": "stream",
       "stream": "stdout",
       "text": [
        "\n",
        "Working on: cccma_week2273.nc\n",
        "Working on: cccma_week2274.nc"
       ]
      },
      {
       "output_type": "stream",
       "stream": "stdout",
       "text": [
        "\n",
        "Working on: cccma_week2275.nc\n",
        "Working on: cccma_week2276.nc\n",
        "Working on: cccma_week2277.nc"
       ]
      },
      {
       "output_type": "stream",
       "stream": "stdout",
       "text": [
        "\n",
        "Working on: cccma_week2278.nc\n",
        "Working on: cccma_week2279.nc\n",
        "Working on: cccma_week2280.nc"
       ]
      },
      {
       "output_type": "stream",
       "stream": "stdout",
       "text": [
        "\n",
        "Working on: cccma_week2281.nc\n",
        "Working on: cccma_week2282.nc\n",
        "Working on: cccma_week2283.nc"
       ]
      },
      {
       "output_type": "stream",
       "stream": "stdout",
       "text": [
        "\n",
        "Working on: cccma_week2284.nc\n",
        "Working on: cccma_week2285.nc"
       ]
      },
      {
       "output_type": "stream",
       "stream": "stdout",
       "text": [
        "\n",
        "Working on: cccma_week2286.nc\n",
        "Working on: cccma_week2287.nc"
       ]
      },
      {
       "output_type": "stream",
       "stream": "stdout",
       "text": [
        "\n",
        "Working on: cccma_week2288.nc\n",
        "Working on: cccma_week2289.nc"
       ]
      },
      {
       "output_type": "stream",
       "stream": "stdout",
       "text": [
        "\n",
        "Working on: cccma_week2290.nc\n",
        "Working on: cccma_week2291.nc"
       ]
      },
      {
       "output_type": "stream",
       "stream": "stdout",
       "text": [
        "\n",
        "Working on: cccma_week2292.nc\n",
        "Working on: cccma_week2293.nc\n",
        "Working on: cccma_week2294.nc"
       ]
      },
      {
       "output_type": "stream",
       "stream": "stdout",
       "text": [
        "\n",
        "Working on: cccma_week2295.nc\n",
        "Working on: cccma_week2296.nc\n",
        "Working on: cccma_week2297.nc"
       ]
      },
      {
       "output_type": "stream",
       "stream": "stdout",
       "text": [
        "\n",
        "Working on: cccma_week2298.nc\n",
        "Working on: cccma_week2299.nc"
       ]
      },
      {
       "output_type": "stream",
       "stream": "stdout",
       "text": [
        "\n",
        "Working on: cccma_week2300.nc\n",
        "Working on: cccma_week2301.nc\n",
        "Working on: cccma_week2302.nc"
       ]
      },
      {
       "output_type": "stream",
       "stream": "stdout",
       "text": [
        "\n",
        "Working on: cccma_week2303.nc\n",
        "Working on: cccma_week2304.nc\n",
        "Working on: cccma_week2305.nc"
       ]
      },
      {
       "output_type": "stream",
       "stream": "stdout",
       "text": [
        "\n",
        "Working on: cccma_week2306.nc\n",
        "Working on: cccma_week2307.nc\n",
        "Working on: cccma_week2308.nc"
       ]
      },
      {
       "output_type": "stream",
       "stream": "stdout",
       "text": [
        "\n",
        "Working on: cccma_week2309.nc\n",
        "Working on: cccma_week2310.nc"
       ]
      },
      {
       "output_type": "stream",
       "stream": "stdout",
       "text": [
        "\n",
        "Working on: cccma_week2311.nc\n",
        "Working on: cccma_week2312.nc\n",
        "Working on: cccma_week2313.nc"
       ]
      },
      {
       "output_type": "stream",
       "stream": "stdout",
       "text": [
        "\n",
        "Working on: cccma_week2314.nc\n",
        "Working on: cccma_week2315.nc\n",
        "Working on: cccma_week2316.nc"
       ]
      },
      {
       "output_type": "stream",
       "stream": "stdout",
       "text": [
        "\n",
        "Working on: cccma_week2317.nc\n",
        "Working on: cccma_week2318.nc"
       ]
      },
      {
       "output_type": "stream",
       "stream": "stdout",
       "text": [
        "\n",
        "Working on: cccma_week2319.nc\n",
        "Working on: cccma_week2320.nc\n",
        "Working on: cccma_week2321.nc"
       ]
      },
      {
       "output_type": "stream",
       "stream": "stdout",
       "text": [
        "\n",
        "Working on: cccma_week2322.nc\n",
        "Working on: cccma_week2323.nc\n",
        "Working on: cccma_week2324.nc"
       ]
      },
      {
       "output_type": "stream",
       "stream": "stdout",
       "text": [
        "\n",
        "Working on: cccma_week2325.nc\n",
        "Working on: cccma_week2326.nc"
       ]
      },
      {
       "output_type": "stream",
       "stream": "stdout",
       "text": [
        "\n",
        "Working on: cccma_week2327.nc\n",
        "Working on: cccma_week2328.nc\n",
        "Working on: cccma_week2329.nc"
       ]
      },
      {
       "output_type": "stream",
       "stream": "stdout",
       "text": [
        "\n",
        "Working on: cccma_week2330.nc\n",
        "Working on: cccma_week2331.nc\n",
        "Working on: cccma_week2332.nc"
       ]
      },
      {
       "output_type": "stream",
       "stream": "stdout",
       "text": [
        "\n",
        "Working on: cccma_week2333.nc\n",
        "Working on: cccma_week2334.nc\n",
        "Working on: cccma_week2335.nc"
       ]
      },
      {
       "output_type": "stream",
       "stream": "stdout",
       "text": [
        "\n",
        "Working on: cccma_week2336.nc\n",
        "Working on: cccma_week2337.nc\n",
        "Working on: cccma_week2338.nc"
       ]
      },
      {
       "output_type": "stream",
       "stream": "stdout",
       "text": [
        "\n",
        "Working on: cccma_week2339.nc\n",
        "Working on: cccma_week2340.nc\n",
        "Working on: cccma_week2341.nc"
       ]
      },
      {
       "output_type": "stream",
       "stream": "stdout",
       "text": [
        "\n",
        "Working on: cccma_week2342.nc\n",
        "Working on: cccma_week2343.nc\n",
        "Working on: cccma_week2344.nc"
       ]
      },
      {
       "output_type": "stream",
       "stream": "stdout",
       "text": [
        "\n",
        "Working on: cccma_week2345.nc\n",
        "Working on: cccma_week2346.nc\n",
        "Working on: cccma_week2347.nc"
       ]
      },
      {
       "output_type": "stream",
       "stream": "stdout",
       "text": [
        "\n",
        "Working on: cccma_week2348.nc\n",
        "Working on: cccma_week2349.nc\n",
        "Working on: cccma_week2350.nc"
       ]
      },
      {
       "output_type": "stream",
       "stream": "stdout",
       "text": [
        "\n",
        "Working on: cccma_week2351.nc\n",
        "Working on: cccma_week2352.nc\n",
        "Working on: cccma_week2353.nc"
       ]
      },
      {
       "output_type": "stream",
       "stream": "stdout",
       "text": [
        "\n",
        "Working on: cccma_week2354.nc\n",
        "Working on: cccma_week2355.nc"
       ]
      },
      {
       "output_type": "stream",
       "stream": "stdout",
       "text": [
        "\n",
        "Working on: cccma_week2356.nc\n",
        "Working on: cccma_week2357.nc"
       ]
      },
      {
       "output_type": "stream",
       "stream": "stdout",
       "text": [
        "\n",
        "Working on: cccma_week2358.nc\n",
        "Working on: cccma_week2359.nc\n",
        "Working on: cccma_week2360.nc"
       ]
      },
      {
       "output_type": "stream",
       "stream": "stdout",
       "text": [
        "\n",
        "Working on: cccma_week2361.nc\n",
        "Working on: cccma_week2362.nc\n",
        "Working on: cccma_week2363.nc"
       ]
      },
      {
       "output_type": "stream",
       "stream": "stdout",
       "text": [
        "\n",
        "Working on: cccma_week2364.nc\n",
        "Working on: cccma_week2365.nc"
       ]
      },
      {
       "output_type": "stream",
       "stream": "stdout",
       "text": [
        "\n",
        "Working on: cccma_week2366.nc\n",
        "Working on: cccma_week2367.nc"
       ]
      },
      {
       "output_type": "stream",
       "stream": "stdout",
       "text": [
        "\n",
        "Working on: cccma_week2368.nc\n",
        "Working on: cccma_week2369.nc"
       ]
      },
      {
       "output_type": "stream",
       "stream": "stdout",
       "text": [
        "\n",
        "Working on: cccma_week2370.nc\n",
        "Working on: cccma_week2371.nc\n",
        "Working on: cccma_week2372.nc"
       ]
      },
      {
       "output_type": "stream",
       "stream": "stdout",
       "text": [
        "\n",
        "Working on: cccma_week2373.nc\n",
        "Working on: cccma_week2374.nc"
       ]
      },
      {
       "output_type": "stream",
       "stream": "stdout",
       "text": [
        "\n",
        "Working on: cccma_week2375.nc\n",
        "Working on: cccma_week2376.nc\n",
        "Working on: cccma_week2377.nc"
       ]
      },
      {
       "output_type": "stream",
       "stream": "stdout",
       "text": [
        "\n",
        "Working on: cccma_week2378.nc\n",
        "Working on: cccma_week2379.nc\n",
        "Working on: cccma_week2380.nc"
       ]
      },
      {
       "output_type": "stream",
       "stream": "stdout",
       "text": [
        "\n",
        "Working on: cccma_week2381.nc\n",
        "Working on: cccma_week2382.nc\n",
        "Working on: cccma_week2383.nc"
       ]
      },
      {
       "output_type": "stream",
       "stream": "stdout",
       "text": [
        "\n",
        "Working on: cccma_week2384.nc\n",
        "Working on: cccma_week2385.nc\n",
        "Working on: cccma_week2386.nc"
       ]
      },
      {
       "output_type": "stream",
       "stream": "stdout",
       "text": [
        "\n",
        "Working on: cccma_week2387.nc\n",
        "Working on: cccma_week2388.nc"
       ]
      },
      {
       "output_type": "stream",
       "stream": "stdout",
       "text": [
        "\n",
        "Working on: cccma_week2389.nc\n",
        "Working on: cccma_week2390.nc\n",
        "Working on: cccma_week2391.nc"
       ]
      },
      {
       "output_type": "stream",
       "stream": "stdout",
       "text": [
        "\n",
        "Working on: cccma_week2392.nc\n",
        "Working on: cccma_week2393.nc\n",
        "Working on: cccma_week2394.nc"
       ]
      },
      {
       "output_type": "stream",
       "stream": "stdout",
       "text": [
        "\n",
        "Working on: cccma_week2395.nc\n",
        "Working on: cccma_week2396.nc"
       ]
      },
      {
       "output_type": "stream",
       "stream": "stdout",
       "text": [
        "\n",
        "Working on: cccma_week2397.nc\n",
        "Working on: cccma_week2398.nc"
       ]
      },
      {
       "output_type": "stream",
       "stream": "stdout",
       "text": [
        "\n",
        "Working on: cccma_week2399.nc\n",
        "Working on: cccma_week2400.nc\n",
        "Working on: cccma_week2401.nc"
       ]
      },
      {
       "output_type": "stream",
       "stream": "stdout",
       "text": [
        "\n",
        "Working on: cccma_week2402.nc\n",
        "Working on: cccma_week2403.nc\n",
        "Working on: cccma_week2404.nc"
       ]
      },
      {
       "output_type": "stream",
       "stream": "stdout",
       "text": [
        "\n",
        "Working on: cccma_week2405.nc\n",
        "Working on: cccma_week2406.nc"
       ]
      },
      {
       "output_type": "stream",
       "stream": "stdout",
       "text": [
        "\n",
        "Working on: cccma_week2407.nc"
       ]
      },
      {
       "output_type": "stream",
       "stream": "stdout",
       "text": [
        "\n",
        "Working on: cccma_week2408.nc\n",
        "Working on: cccma_week2409.nc"
       ]
      },
      {
       "output_type": "stream",
       "stream": "stdout",
       "text": [
        "\n",
        "Working on: cccma_week2410.nc\n",
        "Working on: cccma_week2411.nc\n",
        "Working on: cccma_week2412.nc"
       ]
      },
      {
       "output_type": "stream",
       "stream": "stdout",
       "text": [
        "\n",
        "Working on: cccma_week2413.nc\n",
        "Working on: cccma_week2414.nc"
       ]
      },
      {
       "output_type": "stream",
       "stream": "stdout",
       "text": [
        "\n",
        "Working on: cccma_week2415.nc\n",
        "Working on: cccma_week2416.nc\n",
        "Working on: cccma_week2417.nc"
       ]
      },
      {
       "output_type": "stream",
       "stream": "stdout",
       "text": [
        "\n",
        "Working on: cccma_week2418.nc\n",
        "Working on: cccma_week2419.nc\n",
        "Working on: cccma_week2420.nc"
       ]
      },
      {
       "output_type": "stream",
       "stream": "stdout",
       "text": [
        "\n",
        "Working on: cccma_week2421.nc\n",
        "Working on: cccma_week2422.nc\n",
        "Working on: cccma_week2423.nc"
       ]
      },
      {
       "output_type": "stream",
       "stream": "stdout",
       "text": [
        "\n",
        "Working on: cccma_week2424.nc\n",
        "Working on: cccma_week2425.nc"
       ]
      },
      {
       "output_type": "stream",
       "stream": "stdout",
       "text": [
        "\n",
        "Working on: cccma_week2426.nc\n",
        "Working on: cccma_week2427.nc"
       ]
      },
      {
       "output_type": "stream",
       "stream": "stdout",
       "text": [
        "\n",
        "Working on: cccma_week2428.nc\n",
        "Working on: cccma_week2429.nc\n",
        "Working on: cccma_week2430.nc"
       ]
      },
      {
       "output_type": "stream",
       "stream": "stdout",
       "text": [
        "\n",
        "Working on: cccma_week2431.nc\n",
        "Working on: cccma_week2432.nc"
       ]
      },
      {
       "output_type": "stream",
       "stream": "stdout",
       "text": [
        "\n",
        "Working on: cccma_week2433.nc\n",
        "Working on: cccma_week2434.nc"
       ]
      },
      {
       "output_type": "stream",
       "stream": "stdout",
       "text": [
        "\n",
        "Working on: cccma_week2435.nc\n",
        "Working on: cccma_week2436.nc\n",
        "Working on: cccma_week2437.nc"
       ]
      },
      {
       "output_type": "stream",
       "stream": "stdout",
       "text": [
        "\n",
        "Working on: cccma_week2438.nc\n",
        "Working on: cccma_week2439.nc"
       ]
      },
      {
       "output_type": "stream",
       "stream": "stdout",
       "text": [
        "\n",
        "Working on: cccma_week2440.nc\n",
        "Working on: cccma_week2441.nc\n",
        "Working on: cccma_week2442.nc"
       ]
      },
      {
       "output_type": "stream",
       "stream": "stdout",
       "text": [
        "\n",
        "Working on: cccma_week2443.nc\n",
        "Working on: cccma_week2444.nc"
       ]
      },
      {
       "output_type": "stream",
       "stream": "stdout",
       "text": [
        "\n",
        "Working on: cccma_week2445.nc\n",
        "Working on: cccma_week2446.nc"
       ]
      },
      {
       "output_type": "stream",
       "stream": "stdout",
       "text": [
        "\n",
        "Working on: cccma_week2447.nc\n",
        "Working on: cccma_week2448.nc\n",
        "Working on: cccma_week2449.nc"
       ]
      },
      {
       "output_type": "stream",
       "stream": "stdout",
       "text": [
        "\n",
        "Working on: cccma_week2450.nc\n",
        "Working on: cccma_week2451.nc"
       ]
      },
      {
       "output_type": "stream",
       "stream": "stdout",
       "text": [
        "\n",
        "Working on: cccma_week2452.nc\n",
        "Working on: cccma_week2453.nc"
       ]
      },
      {
       "output_type": "stream",
       "stream": "stdout",
       "text": [
        "\n",
        "Working on: cccma_week2454.nc\n",
        "Working on: cccma_week2455.nc"
       ]
      },
      {
       "output_type": "stream",
       "stream": "stdout",
       "text": [
        "\n",
        "Working on: cccma_week2456.nc\n",
        "Working on: cccma_week2457.nc\n",
        "Working on: cccma_week2458.nc"
       ]
      },
      {
       "output_type": "stream",
       "stream": "stdout",
       "text": [
        "\n",
        "Working on: cccma_week2459.nc\n",
        "Working on: cccma_week2460.nc"
       ]
      },
      {
       "output_type": "stream",
       "stream": "stdout",
       "text": [
        "\n",
        "Working on: cccma_week2461.nc\n",
        "Working on: cccma_week2462.nc"
       ]
      },
      {
       "output_type": "stream",
       "stream": "stdout",
       "text": [
        "\n",
        "Working on: cccma_week2463.nc\n",
        "Working on: cccma_week2464.nc"
       ]
      },
      {
       "output_type": "stream",
       "stream": "stdout",
       "text": [
        "\n",
        "Working on: cccma_week2465.nc\n",
        "Working on: cccma_week2466.nc\n",
        "Working on: cccma_week2467.nc"
       ]
      },
      {
       "output_type": "stream",
       "stream": "stdout",
       "text": [
        "\n",
        "Working on: cccma_week2468.nc\n",
        "Working on: cccma_week2469.nc"
       ]
      },
      {
       "output_type": "stream",
       "stream": "stdout",
       "text": [
        "\n",
        "Working on: cccma_week2470.nc\n",
        "Working on: cccma_week2471.nc\n",
        "Working on: cccma_week2472.nc"
       ]
      },
      {
       "output_type": "stream",
       "stream": "stdout",
       "text": [
        "\n",
        "Working on: cccma_week2473.nc\n",
        "Working on: cccma_week2474.nc\n",
        "Working on: cccma_week2475.nc"
       ]
      },
      {
       "output_type": "stream",
       "stream": "stdout",
       "text": [
        "\n",
        "Working on: cccma_week2476.nc\n",
        "Working on: cccma_week2477.nc"
       ]
      },
      {
       "output_type": "stream",
       "stream": "stdout",
       "text": [
        "\n",
        "Working on: cccma_week2478.nc\n",
        "Working on: cccma_week2479.nc\n",
        "Working on: cccma_week2480.nc"
       ]
      },
      {
       "output_type": "stream",
       "stream": "stdout",
       "text": [
        "\n",
        "Working on: cccma_week2481.nc\n",
        "Working on: cccma_week2482.nc\n",
        "Working on: cccma_week2483.nc"
       ]
      },
      {
       "output_type": "stream",
       "stream": "stdout",
       "text": [
        "\n",
        "Working on: cccma_week2484.nc\n",
        "Working on: cccma_week2485.nc\n",
        "Working on: cccma_week2486.nc"
       ]
      },
      {
       "output_type": "stream",
       "stream": "stdout",
       "text": [
        "\n",
        "Working on: cccma_week2487.nc\n",
        "Working on: cccma_week2488.nc\n",
        "Working on: cccma_week2489.nc"
       ]
      },
      {
       "output_type": "stream",
       "stream": "stdout",
       "text": [
        "\n",
        "Working on: cccma_week2490.nc\n",
        "Working on: cccma_week2491.nc\n",
        "Working on: cccma_week2492.nc"
       ]
      },
      {
       "output_type": "stream",
       "stream": "stdout",
       "text": [
        "\n",
        "Working on: cccma_week2493.nc\n",
        "Working on: cccma_week2494.nc\n",
        "Working on: cccma_week2495.nc"
       ]
      },
      {
       "output_type": "stream",
       "stream": "stdout",
       "text": [
        "\n",
        "Working on: cccma_week2496.nc\n",
        "Working on: cccma_week2497.nc"
       ]
      },
      {
       "output_type": "stream",
       "stream": "stdout",
       "text": [
        "\n",
        "Working on: cccma_week2498.nc\n",
        "Working on: cccma_week2499.nc\n",
        "Working on: cccma_week2500.nc"
       ]
      },
      {
       "output_type": "stream",
       "stream": "stdout",
       "text": [
        "\n",
        "Working on: cccma_week2501.nc\n",
        "Working on: cccma_week2502.nc"
       ]
      },
      {
       "output_type": "stream",
       "stream": "stdout",
       "text": [
        "\n",
        "Working on: cccma_week2503.nc\n",
        "Working on: cccma_week2504.nc\n",
        "Working on: cccma_week2505.nc"
       ]
      },
      {
       "output_type": "stream",
       "stream": "stdout",
       "text": [
        "\n",
        "Working on: cccma_week2506.nc\n",
        "Working on: cccma_week2507.nc\n",
        "Working on: cccma_week2508.nc"
       ]
      },
      {
       "output_type": "stream",
       "stream": "stdout",
       "text": [
        "\n",
        "Working on: cccma_week2509.nc\n",
        "Working on: cccma_week2510.nc"
       ]
      },
      {
       "output_type": "stream",
       "stream": "stdout",
       "text": [
        "\n",
        "Working on: cccma_week2511.nc\n",
        "Working on: cccma_week2512.nc"
       ]
      },
      {
       "output_type": "stream",
       "stream": "stdout",
       "text": [
        "\n",
        "Working on: cccma_week2513.nc\n",
        "Working on: cccma_week2514.nc\n",
        "Working on: cccma_week2515.nc\n",
        "Working on: cccma_week2516.nc"
       ]
      },
      {
       "output_type": "stream",
       "stream": "stdout",
       "text": [
        "\n",
        "Working on: cccma_week2517.nc\n",
        "Working on: cccma_week2518.nc\n",
        "Working on: cccma_week2519.nc"
       ]
      },
      {
       "output_type": "stream",
       "stream": "stdout",
       "text": [
        "\n",
        "Working on: cccma_week2520.nc\n",
        "Working on: cccma_week2521.nc\n",
        "Working on: cccma_week2522.nc"
       ]
      },
      {
       "output_type": "stream",
       "stream": "stdout",
       "text": [
        "\n",
        "Working on: cccma_week2523.nc\n",
        "Working on: cccma_week2524.nc\n",
        "Working on: cccma_week2525.nc"
       ]
      },
      {
       "output_type": "stream",
       "stream": "stdout",
       "text": [
        "\n",
        "Working on: cccma_week2526.nc\n",
        "Working on: cccma_week2527.nc"
       ]
      },
      {
       "output_type": "stream",
       "stream": "stdout",
       "text": [
        "\n",
        "Working on: cccma_week2528.nc\n",
        "Working on: cccma_week2529.nc\n",
        "Working on: cccma_week2530.nc"
       ]
      },
      {
       "output_type": "stream",
       "stream": "stdout",
       "text": [
        "\n",
        "Working on: cccma_week2531.nc\n",
        "Working on: cccma_week2532.nc"
       ]
      },
      {
       "output_type": "stream",
       "stream": "stdout",
       "text": [
        "\n",
        "Working on: cccma_week2533.nc\n",
        "Working on: cccma_week2534.nc"
       ]
      },
      {
       "output_type": "stream",
       "stream": "stdout",
       "text": [
        "\n",
        "Working on: cccma_week2535.nc\n",
        "Working on: cccma_week2536.nc"
       ]
      },
      {
       "output_type": "stream",
       "stream": "stdout",
       "text": [
        "\n",
        "Working on: cccma_week2537.nc\n",
        "Working on: cccma_week2538.nc\n",
        "Working on: cccma_week2539.nc"
       ]
      },
      {
       "output_type": "stream",
       "stream": "stdout",
       "text": [
        "\n",
        "Working on: cccma_week2540.nc\n",
        "Working on: cccma_week2541.nc"
       ]
      },
      {
       "output_type": "stream",
       "stream": "stdout",
       "text": [
        "\n",
        "Working on: cccma_week2542.nc\n",
        "Working on: cccma_week2543.nc\n",
        "Working on: cccma_week2544.nc"
       ]
      },
      {
       "output_type": "stream",
       "stream": "stdout",
       "text": [
        "\n",
        "Working on: cccma_week2545.nc\n",
        "Working on: cccma_week2546.nc\n",
        "Working on: cccma_week2547.nc"
       ]
      },
      {
       "output_type": "stream",
       "stream": "stdout",
       "text": [
        "\n",
        "Working on: cccma_week2548.nc\n",
        "Working on: cccma_week2549.nc\n",
        "Working on: cccma_week2550.nc"
       ]
      },
      {
       "output_type": "stream",
       "stream": "stdout",
       "text": [
        "\n",
        "Working on: cccma_week2551.nc\n",
        "Working on: cccma_week2552.nc\n",
        "Working on: cccma_week2553.nc"
       ]
      },
      {
       "output_type": "stream",
       "stream": "stdout",
       "text": [
        "\n",
        "Working on: cccma_week2554.nc\n",
        "Working on: cccma_week2555.nc"
       ]
      },
      {
       "output_type": "stream",
       "stream": "stdout",
       "text": [
        "\n",
        "Working on: cccma_week2556.nc\n",
        "Working on: cccma_week2557.nc"
       ]
      },
      {
       "output_type": "stream",
       "stream": "stdout",
       "text": [
        "\n",
        "Working on: cccma_week2558.nc\n",
        "Working on: cccma_week2559.nc"
       ]
      },
      {
       "output_type": "stream",
       "stream": "stdout",
       "text": [
        "\n",
        "Working on: cccma_week2560.nc\n",
        "Working on: cccma_week2561.nc\n",
        "Working on: cccma_week2562.nc"
       ]
      },
      {
       "output_type": "stream",
       "stream": "stdout",
       "text": [
        "\n",
        "Working on: cccma_week2563.nc\n",
        "Working on: cccma_week2564.nc\n",
        "Working on: cccma_week2565.nc"
       ]
      },
      {
       "output_type": "stream",
       "stream": "stdout",
       "text": [
        "\n",
        "Working on: cccma_week2566.nc\n",
        "Working on: cccma_week2567.nc\n",
        "Working on: cccma_week2568.nc"
       ]
      },
      {
       "output_type": "stream",
       "stream": "stdout",
       "text": [
        "\n",
        "Working on: cccma_week2569.nc\n",
        "Working on: cccma_week2570.nc"
       ]
      },
      {
       "output_type": "stream",
       "stream": "stdout",
       "text": [
        "\n",
        "Working on: cccma_week2571.nc\n",
        "Working on: cccma_week2572.nc"
       ]
      },
      {
       "output_type": "stream",
       "stream": "stdout",
       "text": [
        "\n",
        "Working on: cccma_week2573.nc\n",
        "Working on: cccma_week2574.nc"
       ]
      },
      {
       "output_type": "stream",
       "stream": "stdout",
       "text": [
        "\n",
        "Working on: cccma_week2575.nc\n",
        "Working on: cccma_week2576.nc\n",
        "Working on: cccma_week2577.nc"
       ]
      },
      {
       "output_type": "stream",
       "stream": "stdout",
       "text": [
        "\n",
        "Working on: cccma_week2578.nc\n",
        "Working on: cccma_week2579.nc"
       ]
      },
      {
       "output_type": "stream",
       "stream": "stdout",
       "text": [
        "\n",
        "Working on: cccma_week2580.nc\n",
        "Working on: cccma_week2581.nc\n",
        "Working on: cccma_week2582.nc"
       ]
      },
      {
       "output_type": "stream",
       "stream": "stdout",
       "text": [
        "\n",
        "Working on: cccma_week2583.nc\n",
        "Working on: cccma_week2584.nc\n",
        "Working on: cccma_week2585.nc"
       ]
      },
      {
       "output_type": "stream",
       "stream": "stdout",
       "text": [
        "\n",
        "Working on: cccma_week2586.nc\n",
        "Working on: cccma_week2587.nc\n",
        "Working on: cccma_week2588.nc"
       ]
      },
      {
       "output_type": "stream",
       "stream": "stdout",
       "text": [
        "\n",
        "Working on: cccma_week2589.nc\n",
        "Working on: cccma_week2590.nc\n",
        "Working on: cccma_week2591.nc"
       ]
      },
      {
       "output_type": "stream",
       "stream": "stdout",
       "text": [
        "\n",
        "Working on: cccma_week2592.nc\n",
        "Working on: cccma_week2593.nc"
       ]
      },
      {
       "output_type": "stream",
       "stream": "stdout",
       "text": [
        "\n",
        "Working on: cccma_week2594.nc\n",
        "Working on: cccma_week2595.nc\n",
        "Working on: cccma_week2596.nc"
       ]
      },
      {
       "output_type": "stream",
       "stream": "stdout",
       "text": [
        "\n",
        "Working on: cccma_week2597.nc\n",
        "Working on: cccma_week2598.nc"
       ]
      },
      {
       "output_type": "stream",
       "stream": "stdout",
       "text": [
        "\n",
        "Working on: cccma_week2599.nc\n",
        "Working on: cccma_week2600.nc\n",
        "Working on: cccma_week2601.nc"
       ]
      },
      {
       "output_type": "stream",
       "stream": "stdout",
       "text": [
        "\n",
        "Working on: cccma_week2602.nc\n",
        "Working on: cccma_week2603.nc\n",
        "Working on: cccma_week2604.nc"
       ]
      },
      {
       "output_type": "stream",
       "stream": "stdout",
       "text": [
        "\n",
        "Working on: cccma_week2605.nc\n",
        "Working on: cccma_week2606.nc"
       ]
      },
      {
       "output_type": "stream",
       "stream": "stdout",
       "text": [
        "\n",
        "Working on: cccma_week2607.nc\n",
        "Working on: cccma_week2608.nc\n",
        "Working on: cccma_week2609.nc"
       ]
      },
      {
       "output_type": "stream",
       "stream": "stdout",
       "text": [
        "\n",
        "Working on: cccma_week2610.nc\n",
        "Working on: cccma_week2611.nc\n",
        "Working on: cccma_week2612.nc"
       ]
      },
      {
       "output_type": "stream",
       "stream": "stdout",
       "text": [
        "\n",
        "Working on: cccma_week2613.nc"
       ]
      },
      {
       "output_type": "stream",
       "stream": "stdout",
       "text": [
        "\n",
        "Working on: cccma_week2614.nc\n",
        "Working on: cccma_week2615.nc\n",
        "Working on: cccma_week2616.nc"
       ]
      },
      {
       "output_type": "stream",
       "stream": "stdout",
       "text": [
        "\n",
        "Working on: cccma_week2617.nc\n",
        "Working on: cccma_week2618.nc"
       ]
      },
      {
       "output_type": "stream",
       "stream": "stdout",
       "text": [
        "\n",
        "Working on: cccma_week2619.nc\n",
        "Working on: cccma_week2620.nc"
       ]
      },
      {
       "output_type": "stream",
       "stream": "stdout",
       "text": [
        "\n",
        "Working on: cccma_week2621.nc\n",
        "Working on: cccma_week2622.nc\n",
        "Working on: cccma_week2623.nc"
       ]
      },
      {
       "output_type": "stream",
       "stream": "stdout",
       "text": [
        "\n",
        "Working on: cccma_week2624.nc\n",
        "Working on: cccma_week2625.nc\n",
        "Working on: cccma_week2626.nc"
       ]
      },
      {
       "output_type": "stream",
       "stream": "stdout",
       "text": [
        "\n",
        "Working on: cccma_week2627.nc\n",
        "Working on: cccma_week2628.nc\n",
        "Working on: cccma_week2629.nc"
       ]
      },
      {
       "output_type": "stream",
       "stream": "stdout",
       "text": [
        "\n",
        "Working on: cccma_week2630.nc\n",
        "Working on: cccma_week2631.nc"
       ]
      },
      {
       "output_type": "stream",
       "stream": "stdout",
       "text": [
        "\n",
        "Working on: cccma_week2632.nc\n",
        "Working on: cccma_week2633.nc\n",
        "Working on: cccma_week2634.nc"
       ]
      },
      {
       "output_type": "stream",
       "stream": "stdout",
       "text": [
        "\n",
        "Working on: cccma_week2635.nc\n",
        "Working on: cccma_week2636.nc"
       ]
      },
      {
       "output_type": "stream",
       "stream": "stdout",
       "text": [
        "\n",
        "Working on: cccma_week2637.nc\n",
        "Working on: cccma_week2638.nc"
       ]
      },
      {
       "output_type": "stream",
       "stream": "stdout",
       "text": [
        "\n",
        "Working on: cccma_week2639.nc\n",
        "Working on: cccma_week2640.nc\n",
        "Working on: cccma_week2641.nc"
       ]
      },
      {
       "output_type": "stream",
       "stream": "stdout",
       "text": [
        "\n",
        "Working on: cccma_week2642.nc\n",
        "Working on: cccma_week2643.nc"
       ]
      },
      {
       "output_type": "stream",
       "stream": "stdout",
       "text": [
        "\n",
        "Working on: cccma_week2644.nc\n",
        "Working on: cccma_week2645.nc\n",
        "Working on: cccma_week2646.nc"
       ]
      },
      {
       "output_type": "stream",
       "stream": "stdout",
       "text": [
        "\n",
        "Working on: cccma_week2647.nc\n",
        "Working on: cccma_week2648.nc"
       ]
      },
      {
       "output_type": "stream",
       "stream": "stdout",
       "text": [
        "\n",
        "Working on: cccma_week2649.nc\n",
        "Working on: cccma_week2650.nc"
       ]
      },
      {
       "output_type": "stream",
       "stream": "stdout",
       "text": [
        "\n",
        "Working on: cccma_week2651.nc\n",
        "Working on: cccma_week2652.nc\n",
        "Working on: cccma_week2653.nc"
       ]
      },
      {
       "output_type": "stream",
       "stream": "stdout",
       "text": [
        "\n",
        "Working on: cccma_week2654.nc\n",
        "Working on: cccma_week2655.nc\n",
        "Working on: cccma_week2656.nc"
       ]
      },
      {
       "output_type": "stream",
       "stream": "stdout",
       "text": [
        "\n",
        "Working on: cccma_week2657.nc\n",
        "Working on: cccma_week2658.nc\n",
        "Working on: cccma_week2659.nc"
       ]
      },
      {
       "output_type": "stream",
       "stream": "stdout",
       "text": [
        "\n",
        "Working on: cccma_week2660.nc\n",
        "Working on: cccma_week2661.nc\n",
        "Working on: cccma_week2662.nc"
       ]
      },
      {
       "output_type": "stream",
       "stream": "stdout",
       "text": [
        "\n",
        "Working on: cccma_week2663.nc\n",
        "Working on: cccma_week2664.nc\n",
        "Working on: cccma_week2665.nc"
       ]
      },
      {
       "output_type": "stream",
       "stream": "stdout",
       "text": [
        "\n",
        "Working on: cccma_week2666.nc\n",
        "Working on: cccma_week2667.nc"
       ]
      },
      {
       "output_type": "stream",
       "stream": "stdout",
       "text": [
        "\n",
        "Working on: cccma_week2668.nc\n",
        "Working on: cccma_week2669.nc\n",
        "Working on: cccma_week2670.nc"
       ]
      },
      {
       "output_type": "stream",
       "stream": "stdout",
       "text": [
        "\n",
        "Working on: cccma_week2671.nc\n",
        "Working on: cccma_week2672.nc\n",
        "Working on: cccma_week2673.nc"
       ]
      },
      {
       "output_type": "stream",
       "stream": "stdout",
       "text": [
        "\n",
        "Working on: cccma_week2674.nc\n",
        "Working on: cccma_week2675.nc"
       ]
      },
      {
       "output_type": "stream",
       "stream": "stdout",
       "text": [
        "\n",
        "Working on: cccma_week2676.nc\n",
        "Working on: cccma_week2677.nc\n",
        "Working on: cccma_week2678.nc"
       ]
      },
      {
       "output_type": "stream",
       "stream": "stdout",
       "text": [
        "\n",
        "Working on: cccma_week2679.nc\n",
        "Working on: cccma_week2680.nc"
       ]
      },
      {
       "output_type": "stream",
       "stream": "stdout",
       "text": [
        "\n",
        "Working on: cccma_week2681.nc\n",
        "Working on: cccma_week2682.nc\n",
        "Working on: cccma_week2683.nc"
       ]
      },
      {
       "output_type": "stream",
       "stream": "stdout",
       "text": [
        "\n",
        "Working on: cccma_week2684.nc\n",
        "Working on: cccma_week2685.nc"
       ]
      },
      {
       "output_type": "stream",
       "stream": "stdout",
       "text": [
        "\n",
        "Working on: cccma_week2686.nc\n",
        "Working on: cccma_week2687.nc\n",
        "Working on: cccma_week2688.nc"
       ]
      },
      {
       "output_type": "stream",
       "stream": "stdout",
       "text": [
        "\n",
        "Working on: cccma_week2689.nc\n",
        "Working on: cccma_week2690.nc"
       ]
      },
      {
       "output_type": "stream",
       "stream": "stdout",
       "text": [
        "\n",
        "Working on: cccma_week2691.nc\n",
        "Working on: cccma_week2692.nc"
       ]
      },
      {
       "output_type": "stream",
       "stream": "stdout",
       "text": [
        "\n",
        "Working on: cccma_week2693.nc\n",
        "Working on: cccma_week2694.nc"
       ]
      },
      {
       "output_type": "stream",
       "stream": "stdout",
       "text": [
        "\n",
        "Working on: cccma_week2695.nc\n",
        "Working on: cccma_week2696.nc"
       ]
      },
      {
       "output_type": "stream",
       "stream": "stdout",
       "text": [
        "\n",
        "Working on: cccma_week2697.nc\n",
        "Working on: cccma_week2698.nc\n",
        "Working on: cccma_week2699.nc"
       ]
      },
      {
       "output_type": "stream",
       "stream": "stdout",
       "text": [
        "\n",
        "Working on: cccma_week2700.nc\n",
        "Working on: cccma_week2701.nc\n",
        "Working on: cccma_week2702.nc"
       ]
      },
      {
       "output_type": "stream",
       "stream": "stdout",
       "text": [
        "\n",
        "Working on: cccma_week2703.nc\n",
        "Working on: cccma_week2704.nc\n",
        "Working on: cccma_week2705.nc"
       ]
      },
      {
       "output_type": "stream",
       "stream": "stdout",
       "text": [
        "\n",
        "Working on: cccma_week2706.nc\n",
        "Working on: cccma_week2707.nc\n",
        "Working on: cccma_week2708.nc"
       ]
      },
      {
       "output_type": "stream",
       "stream": "stdout",
       "text": [
        "\n",
        "Working on: cccma_week2709.nc\n",
        "Working on: cccma_week2710.nc\n",
        "Working on: cccma_week2711.nc"
       ]
      },
      {
       "output_type": "stream",
       "stream": "stdout",
       "text": [
        "\n",
        "Working on: cccma_week2712.nc\n",
        "Working on: cccma_week2713.nc"
       ]
      },
      {
       "output_type": "stream",
       "stream": "stdout",
       "text": [
        "\n",
        "Working on: cccma_week2714.nc\n",
        "Working on: cccma_week2715.nc"
       ]
      },
      {
       "output_type": "stream",
       "stream": "stdout",
       "text": [
        "\n",
        "Working on: cccma_week2716.nc\n",
        "Working on: cccma_week2717.nc\n",
        "Working on: cccma_week2718.nc"
       ]
      },
      {
       "output_type": "stream",
       "stream": "stdout",
       "text": [
        "\n",
        "Working on: cccma_week2719.nc\n",
        "Working on: cccma_week2720.nc"
       ]
      },
      {
       "output_type": "stream",
       "stream": "stdout",
       "text": [
        "\n",
        "Working on: cccma_week2721.nc\n",
        "Working on: cccma_week2722.nc\n",
        "Working on: cccma_week2723.nc"
       ]
      },
      {
       "output_type": "stream",
       "stream": "stdout",
       "text": [
        "\n",
        "Working on: cccma_week2724.nc\n",
        "Working on: cccma_week2725.nc\n",
        "Working on: cccma_week2726.nc"
       ]
      },
      {
       "output_type": "stream",
       "stream": "stdout",
       "text": [
        "\n",
        "Working on: cccma_week2727.nc\n",
        "Working on: cccma_week2728.nc"
       ]
      },
      {
       "output_type": "stream",
       "stream": "stdout",
       "text": [
        "\n",
        "Working on: cccma_week2729.nc\n",
        "Working on: cccma_week2730.nc"
       ]
      },
      {
       "output_type": "stream",
       "stream": "stdout",
       "text": [
        "\n",
        "Working on: cccma_week2731.nc\n",
        "Working on: cccma_week2732.nc"
       ]
      },
      {
       "output_type": "stream",
       "stream": "stdout",
       "text": [
        "\n",
        "Working on: cccma_week2733.nc\n",
        "Working on: cccma_week2734.nc\n",
        "Working on: cccma_week2735.nc"
       ]
      },
      {
       "output_type": "stream",
       "stream": "stdout",
       "text": [
        "\n",
        "Working on: cccma_week2736.nc\n",
        "Working on: cccma_week2737.nc\n",
        "Working on: cccma_week2738.nc"
       ]
      },
      {
       "output_type": "stream",
       "stream": "stdout",
       "text": [
        "\n",
        "Working on: cccma_week2739.nc\n",
        "Working on: cccma_week2740.nc\n",
        "Working on: cccma_week2741.nc"
       ]
      },
      {
       "output_type": "stream",
       "stream": "stdout",
       "text": [
        "\n",
        "Working on: cccma_week2742.nc\n",
        "Working on: cccma_week2743.nc\n",
        "Working on: cccma_week2744.nc"
       ]
      },
      {
       "output_type": "stream",
       "stream": "stdout",
       "text": [
        "\n",
        "Working on: cccma_week2745.nc\n",
        "Working on: cccma_week2746.nc\n",
        "Working on: cccma_week2747.nc"
       ]
      },
      {
       "output_type": "stream",
       "stream": "stdout",
       "text": [
        "\n",
        "Working on: cccma_week2748.nc\n",
        "Working on: cccma_week2749.nc\n",
        "Working on: cccma_week2750.nc"
       ]
      },
      {
       "output_type": "stream",
       "stream": "stdout",
       "text": [
        "\n",
        "Working on: cccma_week2751.nc\n",
        "Working on: cccma_week2752.nc"
       ]
      },
      {
       "output_type": "stream",
       "stream": "stdout",
       "text": [
        "\n",
        "Working on: cccma_week2753.nc\n",
        "Working on: cccma_week2754.nc\n",
        "Working on: cccma_week2755.nc"
       ]
      },
      {
       "output_type": "stream",
       "stream": "stdout",
       "text": [
        "\n",
        "Working on: cccma_week2756.nc\n",
        "Working on: cccma_week2757.nc\n",
        "Working on: cccma_week2758.nc"
       ]
      },
      {
       "output_type": "stream",
       "stream": "stdout",
       "text": [
        "\n",
        "Working on: cccma_week2759.nc\n",
        "Working on: cccma_week2760.nc"
       ]
      },
      {
       "output_type": "stream",
       "stream": "stdout",
       "text": [
        "\n",
        "Working on: cccma_week2761.nc\n",
        "Working on: cccma_week2762.nc\n",
        "Working on: cccma_week2763.nc"
       ]
      },
      {
       "output_type": "stream",
       "stream": "stdout",
       "text": [
        "\n",
        "Working on: cccma_week2764.nc\n",
        "Working on: cccma_week2765.nc"
       ]
      },
      {
       "output_type": "stream",
       "stream": "stdout",
       "text": [
        "\n",
        "Working on: cccma_week2766.nc\n",
        "Working on: cccma_week2767.nc"
       ]
      },
      {
       "output_type": "stream",
       "stream": "stdout",
       "text": [
        "\n",
        "Working on: cccma_week2768.nc\n",
        "Working on: cccma_week2769.nc\n",
        "Working on: cccma_week2770.nc"
       ]
      },
      {
       "output_type": "stream",
       "stream": "stdout",
       "text": [
        "\n",
        "Working on: cccma_week2771.nc\n",
        "Working on: cccma_week2772.nc\n",
        "Working on: cccma_week2773.nc"
       ]
      },
      {
       "output_type": "stream",
       "stream": "stdout",
       "text": [
        "\n",
        "Working on: cccma_week2774.nc\n",
        "Working on: cccma_week2775.nc"
       ]
      },
      {
       "output_type": "stream",
       "stream": "stdout",
       "text": [
        "\n",
        "Working on: cccma_week2776.nc\n",
        "Working on: cccma_week2777.nc\n",
        "Working on: cccma_week2778.nc"
       ]
      },
      {
       "output_type": "stream",
       "stream": "stdout",
       "text": [
        "\n",
        "Working on: cccma_week2779.nc\n",
        "Working on: cccma_week2780.nc"
       ]
      },
      {
       "output_type": "stream",
       "stream": "stdout",
       "text": [
        "\n",
        "Working on: cccma_week2781.nc\n",
        "Working on: cccma_week2782.nc\n",
        "Working on: cccma_week2783.nc"
       ]
      },
      {
       "output_type": "stream",
       "stream": "stdout",
       "text": [
        "\n",
        "Working on: cccma_week2784.nc\n",
        "Working on: cccma_week2785.nc"
       ]
      },
      {
       "output_type": "stream",
       "stream": "stdout",
       "text": [
        "\n",
        "Working on: cccma_week2786.nc\n",
        "Working on: cccma_week2787.nc"
       ]
      },
      {
       "output_type": "stream",
       "stream": "stdout",
       "text": [
        "\n",
        "Working on: cccma_week2788.nc\n",
        "Working on: cccma_week2789.nc"
       ]
      },
      {
       "output_type": "stream",
       "stream": "stdout",
       "text": [
        "\n",
        "Working on: cccma_week2790.nc\n",
        "Working on: cccma_week2791.nc"
       ]
      },
      {
       "output_type": "stream",
       "stream": "stdout",
       "text": [
        "\n",
        "Working on: cccma_week2792.nc\n",
        "Working on: cccma_week2793.nc\n",
        "Working on: cccma_week2794.nc"
       ]
      },
      {
       "output_type": "stream",
       "stream": "stdout",
       "text": [
        "\n",
        "Working on: cccma_week2795.nc\n",
        "Working on: cccma_week2796.nc\n",
        "Working on: cccma_week2797.nc"
       ]
      },
      {
       "output_type": "stream",
       "stream": "stdout",
       "text": [
        "\n",
        "Working on: cccma_week2798.nc\n",
        "Working on: cccma_week2799.nc\n",
        "Working on: cccma_week2800.nc"
       ]
      },
      {
       "output_type": "stream",
       "stream": "stdout",
       "text": [
        "\n",
        "Working on: cccma_week2801.nc\n",
        "Working on: cccma_week2802.nc"
       ]
      },
      {
       "output_type": "stream",
       "stream": "stdout",
       "text": [
        "\n",
        "Working on: cccma_week2803.nc\n",
        "Working on: cccma_week2804.nc\n",
        "Working on: cccma_week2805.nc"
       ]
      },
      {
       "output_type": "stream",
       "stream": "stdout",
       "text": [
        "\n",
        "Working on: cccma_week2806.nc\n",
        "Working on: cccma_week2807.nc\n",
        "Working on: cccma_week2808.nc"
       ]
      },
      {
       "output_type": "stream",
       "stream": "stdout",
       "text": [
        "\n",
        "Working on: cccma_week2809.nc\n",
        "Working on: cccma_week2810.nc\n",
        "Working on: cccma_week2811.nc"
       ]
      },
      {
       "output_type": "stream",
       "stream": "stdout",
       "text": [
        "\n",
        "Working on: cccma_week2812.nc\n",
        "Working on: cccma_week2813.nc\n",
        "Working on: cccma_week2814.nc"
       ]
      },
      {
       "output_type": "stream",
       "stream": "stdout",
       "text": [
        "\n",
        "Working on: cccma_week2815.nc\n",
        "Working on: cccma_week2816.nc\n",
        "Working on: cccma_week2817.nc"
       ]
      },
      {
       "output_type": "stream",
       "stream": "stdout",
       "text": [
        "\n",
        "Working on: cccma_week2818.nc\n",
        "Working on: cccma_week2819.nc"
       ]
      },
      {
       "output_type": "stream",
       "stream": "stdout",
       "text": [
        "\n",
        "Working on: cccma_week2820.nc\n",
        "Working on: cccma_week2821.nc"
       ]
      },
      {
       "output_type": "stream",
       "stream": "stdout",
       "text": [
        "\n",
        "Working on: cccma_week2822.nc\n",
        "Working on: cccma_week2823.nc"
       ]
      },
      {
       "output_type": "stream",
       "stream": "stdout",
       "text": [
        "\n",
        "Working on: cccma_week2824.nc\n",
        "Working on: cccma_week2825.nc\n",
        "Working on: cccma_week2826.nc"
       ]
      },
      {
       "output_type": "stream",
       "stream": "stdout",
       "text": [
        "\n",
        "Working on: cccma_week2827.nc\n",
        "Working on: cccma_week2828.nc\n",
        "Working on: cccma_week2829.nc"
       ]
      },
      {
       "output_type": "stream",
       "stream": "stdout",
       "text": [
        "\n",
        "Working on: cccma_week2830.nc\n",
        "Working on: cccma_week2831.nc"
       ]
      },
      {
       "output_type": "stream",
       "stream": "stdout",
       "text": [
        "\n",
        "Working on: cccma_week2832.nc\n",
        "Working on: cccma_week2833.nc"
       ]
      },
      {
       "output_type": "stream",
       "stream": "stdout",
       "text": [
        "\n",
        "Working on: cccma_week2834.nc\n",
        "Working on: cccma_week2835.nc\n",
        "Working on: cccma_week2836.nc"
       ]
      },
      {
       "output_type": "stream",
       "stream": "stdout",
       "text": [
        "\n",
        "Working on: cccma_week2837.nc\n",
        "Working on: cccma_week2838.nc\n",
        "Working on: cccma_week2839.nc"
       ]
      },
      {
       "output_type": "stream",
       "stream": "stdout",
       "text": [
        "\n",
        "Working on: cccma_week2840.nc\n",
        "Working on: cccma_week2841.nc"
       ]
      },
      {
       "output_type": "stream",
       "stream": "stdout",
       "text": [
        "\n",
        "Working on: cccma_week2842.nc\n",
        "Working on: cccma_week2843.nc\n",
        "Working on: cccma_week2844.nc"
       ]
      },
      {
       "output_type": "stream",
       "stream": "stdout",
       "text": [
        "\n",
        "Working on: cccma_week2845.nc\n",
        "Working on: cccma_week2846.nc"
       ]
      },
      {
       "output_type": "stream",
       "stream": "stdout",
       "text": [
        "\n",
        "Working on: cccma_week2847.nc\n",
        "Working on: cccma_week2848.nc\n",
        "Working on: cccma_week2849.nc"
       ]
      },
      {
       "output_type": "stream",
       "stream": "stdout",
       "text": [
        "\n",
        "Working on: cccma_week2850.nc\n",
        "Working on: cccma_week2851.nc\n",
        "Working on: cccma_week2852.nc"
       ]
      },
      {
       "output_type": "stream",
       "stream": "stdout",
       "text": [
        "\n",
        "Working on: cccma_week2853.nc\n",
        "Working on: cccma_week2854.nc\n",
        "Working on: cccma_week2855.nc"
       ]
      },
      {
       "output_type": "stream",
       "stream": "stdout",
       "text": [
        "\n",
        "Working on: cccma_week2856.nc\n",
        "Working on: cccma_week2857.nc"
       ]
      },
      {
       "output_type": "stream",
       "stream": "stdout",
       "text": [
        "\n",
        "Working on: cccma_week2858.nc\n",
        "Working on: cccma_week2859.nc\n",
        "Working on: cccma_week2860.nc"
       ]
      },
      {
       "output_type": "stream",
       "stream": "stdout",
       "text": [
        "\n",
        "Working on: cccma_week2861.nc\n",
        "Working on: cccma_week2862.nc"
       ]
      },
      {
       "output_type": "stream",
       "stream": "stdout",
       "text": [
        "\n",
        "Working on: cccma_week2863.nc\n",
        "Working on: cccma_week2864.nc\n",
        "Working on: cccma_week2865.nc"
       ]
      },
      {
       "output_type": "stream",
       "stream": "stdout",
       "text": [
        "\n",
        "Working on: cccma_week2866.nc\n",
        "Working on: cccma_week2867.nc\n",
        "Working on: cccma_week2868.nc"
       ]
      },
      {
       "output_type": "stream",
       "stream": "stdout",
       "text": [
        "\n",
        "Working on: cccma_week2869.nc\n",
        "Working on: cccma_week2870.nc"
       ]
      },
      {
       "output_type": "stream",
       "stream": "stdout",
       "text": [
        "\n",
        "Working on: cccma_week2871.nc\n",
        "Working on: cccma_week2872.nc"
       ]
      },
      {
       "output_type": "stream",
       "stream": "stdout",
       "text": [
        "\n",
        "Working on: cccma_week2873.nc\n",
        "Working on: cccma_week2874.nc"
       ]
      },
      {
       "output_type": "stream",
       "stream": "stdout",
       "text": [
        "\n",
        "Working on: cccma_week2875.nc\n",
        "Working on: cccma_week2876.nc\n",
        "Working on: cccma_week2877.nc"
       ]
      },
      {
       "output_type": "stream",
       "stream": "stdout",
       "text": [
        "\n",
        "Working on: cccma_week2878.nc\n",
        "Working on: cccma_week2879.nc\n",
        "Working on: cccma_week2880.nc"
       ]
      },
      {
       "output_type": "stream",
       "stream": "stdout",
       "text": [
        "\n",
        "Working on: cccma_week2881.nc\n",
        "Working on: cccma_week2882.nc"
       ]
      },
      {
       "output_type": "stream",
       "stream": "stdout",
       "text": [
        "\n",
        "Working on: cccma_week2883.nc\n",
        "Working on: cccma_week2884.nc"
       ]
      },
      {
       "output_type": "stream",
       "stream": "stdout",
       "text": [
        "\n",
        "Working on: cccma_week2885.nc\n",
        "Working on: cccma_week2886.nc"
       ]
      },
      {
       "output_type": "stream",
       "stream": "stdout",
       "text": [
        "\n",
        "Working on: cccma_week2887.nc\n",
        "Working on: cccma_week2888.nc\n",
        "Working on: cccma_week2889.nc"
       ]
      },
      {
       "output_type": "stream",
       "stream": "stdout",
       "text": [
        "\n",
        "Working on: cccma_week2890.nc\n",
        "Working on: cccma_week2891.nc\n",
        "Working on: cccma_week2892.nc"
       ]
      },
      {
       "output_type": "stream",
       "stream": "stdout",
       "text": [
        "\n",
        "Working on: cccma_week2893.nc\n",
        "Working on: cccma_week2894.nc\n",
        "Working on: cccma_week2895.nc"
       ]
      },
      {
       "output_type": "stream",
       "stream": "stdout",
       "text": [
        "\n",
        "Working on: cccma_week2896.nc\n",
        "Working on: cccma_week2897.nc\n",
        "Working on: cccma_week2898.nc"
       ]
      },
      {
       "output_type": "stream",
       "stream": "stdout",
       "text": [
        "\n",
        "Working on: cccma_week2899.nc\n",
        "Working on: cccma_week2900.nc"
       ]
      },
      {
       "output_type": "stream",
       "stream": "stdout",
       "text": [
        "\n",
        "Working on: cccma_week2901.nc\n",
        "Working on: cccma_week2902.nc"
       ]
      },
      {
       "output_type": "stream",
       "stream": "stdout",
       "text": [
        "\n",
        "Working on: cccma_week2903.nc\n",
        "Working on: cccma_week2904.nc"
       ]
      },
      {
       "output_type": "stream",
       "stream": "stdout",
       "text": [
        "\n",
        "Working on: cccma_week2905.nc\n",
        "Working on: cccma_week2906.nc"
       ]
      },
      {
       "output_type": "stream",
       "stream": "stdout",
       "text": [
        "\n",
        "Working on: cccma_week2907.nc\n",
        "Working on: cccma_week2908.nc"
       ]
      },
      {
       "output_type": "stream",
       "stream": "stdout",
       "text": [
        "\n",
        "Working on: cccma_week2909.nc\n",
        "Working on: cccma_week2910.nc"
       ]
      },
      {
       "output_type": "stream",
       "stream": "stdout",
       "text": [
        "\n",
        "Working on: cccma_week2911.nc\n",
        "Working on: cccma_week2912.nc"
       ]
      },
      {
       "output_type": "stream",
       "stream": "stdout",
       "text": [
        "\n",
        "Working on: cccma_week2913.nc\n",
        "Working on: cccma_week2914.nc"
       ]
      },
      {
       "output_type": "stream",
       "stream": "stdout",
       "text": [
        "\n",
        "Working on: cccma_week2915.nc\n",
        "Working on: cccma_week2916.nc\n",
        "Working on: cccma_week2917.nc"
       ]
      },
      {
       "output_type": "stream",
       "stream": "stdout",
       "text": [
        "\n",
        "Working on: cccma_week2918.nc\n",
        "Working on: cccma_week2919.nc\n",
        "Working on: cccma_week2920.nc"
       ]
      },
      {
       "output_type": "stream",
       "stream": "stdout",
       "text": [
        "\n",
        "Working on: cccma_week2921.nc\n",
        "Working on: cccma_week2922.nc\n",
        "Working on: cccma_week2923.nc"
       ]
      },
      {
       "output_type": "stream",
       "stream": "stdout",
       "text": [
        "\n",
        "Working on: cccma_week2924.nc\n",
        "Working on: cccma_week2925.nc\n",
        "Working on: cccma_week2926.nc"
       ]
      },
      {
       "output_type": "stream",
       "stream": "stdout",
       "text": [
        "\n",
        "Working on: cccma_week2927.nc\n",
        "Working on: cccma_week2928.nc"
       ]
      },
      {
       "output_type": "stream",
       "stream": "stdout",
       "text": [
        "\n"
       ]
      }
     ],
     "prompt_number": 44
    },
    {
     "cell_type": "code",
     "collapsed": false,
     "input": [],
     "language": "python",
     "metadata": {},
     "outputs": []
    }
   ],
   "metadata": {}
  }
 ]
}