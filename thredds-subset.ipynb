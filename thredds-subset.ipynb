{
 "cells": [
  {
   "cell_type": "code",
   "execution_count": 1,
   "metadata": {
    "collapsed": true
   },
   "outputs": [],
   "source": [
    "import netCDF4\n",
    "import numpy as np\n",
    "import time\n",
    "import datetime"
   ]
  },
  {
   "cell_type": "code",
   "execution_count": 2,
   "metadata": {
    "collapsed": false
   },
   "outputs": [],
   "source": [
    "# ncd = netCDF4.Dataset(\"http://thredds.aoos.org/thredds/dodsC/PMEL_CORE.nc\")\n",
    "# outname = 'PMEL_CORE_1994-2004.nc'\n",
    "# title='CLIVAR CORE climate hindcast for temperature and salinity, 1994-2004'\n",
    "# description = 'A subset of climate hindcasts from the CLIVAR CORE Climate Model'\n",
    "# history = 'Source files created by PMEL. These files were subset by time, depth, and variable by William Koeppen (Axiom Data Science) will@axiomdatascience.com (907)231-0925'\n",
    "# reference = 'http://portal.aoos.org/#module-metadata/5626a0b6-7d79-11e3-ac17-00219bfe5678/0756e6c2-a8e2-40af-aa3d-22051ed68067'\n",
    "# # Subset by time\n",
    "# start_day = datetime.datetime(1994,1,1,0,0)\n",
    "# end_day = datetime.datetime(2004,12,31,0,0)\n",
    "\n",
    "# ncd = netCDF4.Dataset(\"http://thredds.aoos.org/thredds/dodsC/PMEL_CCCMA1.nc\")\n",
    "# outname = 'PMEL_CCCma_2029-2039.nc'\n",
    "# title='PMEL CCCma climate forecast for temperature and salinity, 2039-2049'\n",
    "# description = 'A subset of climate forecasts from the PMEL CCCma Climate Model'\n",
    "# history = 'Source files created by PMEL. These files were subset by time, depth, and variable by William Koeppen (Axiom Data Science) will@axiomdatascience.com (907)231-0925'\n",
    "# reference = 'http://portal.aoos.org/#module-metadata/4f706756-7d57-11e3-bce5-00219bfe5678/ffa1bcc1-288d-4f8e-912e-500a618b241a'\n",
    "# # Subset by time\n",
    "# start_day = datetime.datetime(2029,1,1,0,0)\n",
    "# end_day = datetime.datetime(2039,12,31,0,0)\n",
    "\n",
    "# ncd = netCDF4.Dataset(\"http://thredds.aoos.org/thredds/dodsC/PMEL_MIROC.nc\")\n",
    "# outname = 'PMEL_MIROC_2029-2039.nc'\n",
    "# title='PMEL MIROC climate forecast for temperature and salinity, 2039-2049'\n",
    "# description = 'A subset of climate forecasts from the PMEL MIROC Climate Model'\n",
    "# history = 'Source files created by PMEL. These files were subset by time, depth, and variable by William Koeppen (Axiom Data Science) will@axiomdatascience.com (907)231-0925'\n",
    "# reference = 'http://portal.aoos.org/#module-metadata/68ea728a-7d7a-11e3-823b-00219bfe5678/bb0d0b5e-878f-4ebb-8985-0d0e6aefe71f'\n",
    "# # Subset by time\n",
    "# start_day = datetime.datetime(2029,1,1,0,0)\n",
    "# end_day = datetime.datetime(2039,12,31,0,0)\n",
    "\n",
    "ncd = netCDF4.Dataset(\"http://thredds.aoos.org/thredds/dodsC/PMEL_ECHOG.nc\")\n",
    "outname = 'PMEL_ECHOG_2029-2039.nc'\n",
    "title='PMEL ECHO-G climate forecast for temperature and salinity, 2039-2049'\n",
    "description = 'A subset of climate forecasts from the PMEL ECHO-G Climate Model'\n",
    "history = 'Source files created by PMEL. These files were subset by time, depth, and variable by William Koeppen (Axiom Data Science) will@axiomdatascience.com (907)231-0925'\n",
    "reference = 'http://portal.aoos.org/#module-metadata/18ffa59c-7d7a-11e3-82a4-00219bfe5678/f2e5592b-28d2-483d-8ef8-52aa18f6e3dc'\n",
    "# Subset by time\n",
    "start_day = datetime.datetime(2029,1,1,0,0)\n",
    "end_day = datetime.datetime(2039,12,31,0,0)"
   ]
  },
  {
   "cell_type": "code",
   "execution_count": 3,
   "metadata": {
    "collapsed": false
   },
   "outputs": [
    {
     "name": "stdout",
     "output_type": "stream",
     "text": [
      "Number of times:  557\n"
     ]
    }
   ],
   "source": [
    "# Get time\n",
    "time_var = ncd.variables['TIME']\n",
    "times=netCDF4.num2date(np.array(time_var), time_var.units)\n",
    "\n",
    "time_index=(times >= start_day) & (times <= end_day)\n",
    "times_subset=times[time_index]\n",
    "\n",
    "# the times_subset above should work, but it doesn't allow me to move to a range, so I'll use this instead:\n",
    "start_tindex = np.searchsorted(times, start_day, side='left')\n",
    "end_tindex = np.searchsorted(times, end_day, side='right')\n",
    "ntimes=end_tindex-start_tindex\n",
    "print('Number of times: ', ntimes)"
   ]
  },
  {
   "cell_type": "code",
   "execution_count": 4,
   "metadata": {
    "collapsed": false
   },
   "outputs": [
    {
     "name": "stdout",
     "output_type": "stream",
     "text": [
      "Number of depths:  3\n"
     ]
    }
   ],
   "source": [
    "# Get depths\n",
    "depth_var = ncd.variables['zsalt']\n",
    "depths=np.array(depth_var)\n",
    "\n",
    "# Subset by vertical extent\n",
    "start_depth = 0\n",
    "end_depth = 10\n",
    "\n",
    "depth_index=(depths >= start_depth) & (depths <= end_depth)\n",
    "depth_subset=depths[depth_index]\n",
    "\n",
    "# the dpeth_subset above should work, but it doesn't allow me to move to a range, so I'll use this instead:\n",
    "start_dindex = np.searchsorted(depths, start_depth, side='left')\n",
    "end_dindex = np.searchsorted(depths, end_depth, side='right')\n",
    "ndepths=end_dindex-start_dindex\n",
    "print('Number of depths: ', ndepths)"
   ]
  },
  {
   "cell_type": "code",
   "execution_count": 5,
   "metadata": {
    "collapsed": false
   },
   "outputs": [],
   "source": [
    "# Pull the temperature variable. There's a size restriction on the request,\n",
    "# so I have to do it in two gos and put it back together.\n",
    "temp_var = ncd.variables['sea_water_temperature']"
   ]
  },
  {
   "cell_type": "code",
   "execution_count": 6,
   "metadata": {
    "collapsed": true
   },
   "outputs": [],
   "source": [
    "# If I index by [0] rather than 0, it leaves the depth axis intact instead of removing it.\n",
    "temps1d = np.array(temp_var[start_tindex:end_tindex, [0], :,:])\n",
    "temps2d = np.array(temp_var[start_tindex:end_tindex, [1], :,:])\n",
    "temps3d = np.array(temp_var[start_tindex:end_tindex, [2], :,:])\n",
    "temps=np.concatenate((temps1d, temps2d, temps3d), axis=1)"
   ]
  },
  {
   "cell_type": "code",
   "execution_count": 7,
   "metadata": {
    "collapsed": false
   },
   "outputs": [
    {
     "data": {
      "text/plain": [
       "(557, 3, 161, 251)"
      ]
     },
     "execution_count": 7,
     "metadata": {},
     "output_type": "execute_result"
    }
   ],
   "source": [
    "temps.shape"
   ]
  },
  {
   "cell_type": "code",
   "execution_count": 8,
   "metadata": {
    "collapsed": true
   },
   "outputs": [],
   "source": [
    "# Pull the salinity variable. There's a size restriction on the request,\n",
    "# so I have to do it in two gos and put it back together.\n",
    "sal_var = ncd.variables['salinity']\n",
    "sals1d = np.array(sal_var[start_tindex:end_tindex, [0], :,:])\n",
    "sals2d = np.array(sal_var[start_tindex:end_tindex, [1], :,:])\n",
    "sals3d = np.array(sal_var[start_tindex:end_tindex, [2], :,:])\n",
    "sals=np.concatenate((sals1d, sals2d, sals3d), axis=1)"
   ]
  },
  {
   "cell_type": "code",
   "execution_count": 9,
   "metadata": {
    "collapsed": false
   },
   "outputs": [
    {
     "data": {
      "text/plain": [
       "(557, 3, 161, 251)"
      ]
     },
     "execution_count": 9,
     "metadata": {},
     "output_type": "execute_result"
    }
   ],
   "source": [
    "sals.shape"
   ]
  },
  {
   "cell_type": "code",
   "execution_count": 10,
   "metadata": {
    "collapsed": false
   },
   "outputs": [],
   "source": [
    "# Write out to netCDF\n",
    "# Add dimensions\n",
    "ncfile = netCDF4.Dataset(outname, 'w')\n",
    "ncfile.createDimension('TIME', )\n",
    "ncfile.createDimension('DEPTH', len(depth_subset))\n",
    "ncfile.createDimension('LATITUDE', ncd.dimensions['LATITUDE'].size)\n",
    "ncfile.createDimension('LONGITUDE', ncd.dimensions['LONGITUDE'].size)\n",
    "\n",
    "# Add subsetted time variable\n",
    "## Write it out\n",
    "nc_times=ncfile.createVariable('TIME', float, dimensions=('TIME'))\n",
    "nc_times.standard_name = 'time'\n",
    "nc_times.units = time_var.units\n",
    "nc_times.time_origin = time_var.time_origin\n",
    "nc_times[:] = (np.array(time_var))[time_index]\n",
    "\n",
    "# Add subsetted depth variable\n",
    "## Write it out\n",
    "nc_depths=ncfile.createVariable('DEPTH', float, dimensions=('DEPTH'))\n",
    "nc_depths.standard_name = 'depth'\n",
    "nc_depths.units = depth_var.units\n",
    "nc_depths.positive = 'down'\n",
    "nc_depths[:] = depth_subset\n",
    "\n",
    "# Add latitude variable\n",
    "## Read it in\n",
    "lat = np.array(ncd.variables['LATITUDE'])\n",
    "## Write it out\n",
    "nc_lats=ncfile.createVariable('LATITUDE', float, dimensions=('LATITUDE'))\n",
    "nc_lats.standard_name = 'latitude'\n",
    "nc_lats.units = 'degrees_north'\n",
    "nc_lats.point_spacing = 'even'\n",
    "nc_lats.axis = 'Y'\n",
    "nc_lats[:]=lat\n",
    "\n",
    "# Add longitude variable\n",
    "## Read it in\n",
    "lon = np.array(ncd.variables['LONGITUDE'])\n",
    "## Write it out\n",
    "nc_lons=ncfile.createVariable('LONGITUDE', float, dimensions=('LONGITUDE'))\n",
    "nc_lons.standard_name = 'longitude'\n",
    "nc_lons.units = 'degrees_east'\n",
    "nc_lons.modulo = 360.\n",
    "nc_lons.axis = 'X'\n",
    "nc_lons[:] = lon\n",
    "\n",
    "# Add temperature\n",
    "# Write\n",
    "nc_temps = ncfile.createVariable('sea_water_temperature', float, dimensions=('TIME', 'DEPTH', 'LATITUDE', 'LONGITUDE'))\n",
    "nc_temps.long_name = 'time-averaged potential temperature'\n",
    "nc_temps.units = temp_var.units\n",
    "nc_temps._fillValue = temp_var._FillValue\n",
    "nc_temps[:,:,:,:] = temps[:,:,:,:]\n",
    "\n",
    "# Add salinity\n",
    "# Write\n",
    "nc_sals = ncfile.createVariable('salinity', float, dimensions=('TIME', 'DEPTH', 'LATITUDE', 'LONGITUDE'))\n",
    "nc_sals.long_name = 'time-averaged salinity'\n",
    "nc_sals.units = sal_var.units\n",
    "nc_sals._fillValue = sal_var._FillValue\n",
    "nc_sals[:,:,:,:] = sals[:,:,:,:]\n",
    "\n",
    "# Add Attributes\n",
    "ncfile.title = title\n",
    "ncfile.description = description\n",
    "ncfile.history = history\n",
    "ncfile.reference = reference\n",
    "\n",
    "ncfile.close()"
   ]
  },
  {
   "cell_type": "code",
   "execution_count": null,
   "metadata": {
    "collapsed": true
   },
   "outputs": [],
   "source": []
  }
 ],
 "metadata": {
  "kernelspec": {
   "display_name": "Python 3",
   "language": "python",
   "name": "python3"
  },
  "language_info": {
   "codemirror_mode": {
    "name": "ipython",
    "version": 3
   },
   "file_extension": ".py",
   "mimetype": "text/x-python",
   "name": "python",
   "nbconvert_exporter": "python",
   "pygments_lexer": "ipython3",
   "version": "3.5.1"
  }
 },
 "nbformat": 4,
 "nbformat_minor": 0
}
